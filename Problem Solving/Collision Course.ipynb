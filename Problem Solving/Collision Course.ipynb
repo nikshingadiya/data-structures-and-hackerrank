{
 "cells": [
  {
   "cell_type": "code",
   "execution_count": 39,
   "metadata": {
    "ExecuteTime": {
     "end_time": "2020-06-19T05:37:05.085660Z",
     "start_time": "2020-06-19T05:37:05.070054Z"
    }
   },
   "outputs": [],
   "source": [
    "\"Collision Course\"\n",
    "import math"
   ]
  },
  {
   "cell_type": "code",
   "execution_count": 21,
   "metadata": {
    "ExecuteTime": {
     "end_time": "2020-06-19T05:21:10.279192Z",
     "start_time": "2020-06-19T05:21:08.817751Z"
    }
   },
   "outputs": [
    {
     "name": "stdout",
     "output_type": "stream",
     "text": [
      "5\n"
     ]
    }
   ],
   "source": [
    "C=int(input()) #Number of Cars"
   ]
  },
  {
   "cell_type": "code",
   "execution_count": 25,
   "metadata": {
    "ExecuteTime": {
     "end_time": "2020-06-19T05:24:15.878269Z",
     "start_time": "2020-06-19T05:23:17.121330Z"
    }
   },
   "outputs": [
    {
     "name": "stdout",
     "output_type": "stream",
     "text": [
      "5 12 1\n",
      "16 63 5\n",
      "-10 24 2\n",
      "7 24 2\n",
      "-24 7 2\n"
     ]
    }
   ],
   "source": [
    "#input Car Coordinates and Velocity\n",
    "l1=[]\n",
    "l2=[]\n",
    "for i in range(C):\n",
    "    l2=list(map(int,input().split(\" \")))\n",
    "    l1.append(l2)\n",
    "    \n",
    "    "
   ]
  },
  {
   "cell_type": "code",
   "execution_count": 26,
   "metadata": {
    "ExecuteTime": {
     "end_time": "2020-06-19T05:24:16.625375Z",
     "start_time": "2020-06-19T05:24:16.609739Z"
    }
   },
   "outputs": [
    {
     "name": "stdout",
     "output_type": "stream",
     "text": [
      "[[5, 12, 1], [16, 63, 5], [-10, 24, 2], [7, 24, 2], [-24, 7, 2]]\n"
     ]
    }
   ],
   "source": []
  },
  {
   "cell_type": "code",
   "execution_count": 42,
   "metadata": {
    "ExecuteTime": {
     "end_time": "2020-06-19T05:41:20.971363Z",
     "start_time": "2020-06-19T05:41:20.940106Z"
    }
   },
   "outputs": [],
   "source": [
    "# Now we find Distance from the origin and Timing To reach origiabsn\n",
    "O=[0,0]\n",
    "Distance=[]\n",
    "Times_To_ReachOrigin=[]\n",
    "my_dict = {}\n",
    "for i in range(C):\n",
    "    x=0\n",
    "    x=(O[0]-l1[i][0])**2+(O[1]-l1[i][1])**2\n",
    "    x=x**0.5\n",
    "    Distance.append(x)\n",
    "    Times_To_ReachOrigin.append(x/l1[i][2])\n",
    "    my_dict[Times_To_ReachOrigin[i]]=my_dict.get(Times_To_ReachOrigin[i],0)+1"
   ]
  },
  {
   "cell_type": "code",
   "execution_count": null,
   "metadata": {
    "ExecuteTime": {
     "end_time": "2020-06-19T05:30:29.631150Z",
     "start_time": "2020-06-19T05:30:29.615546Z"
    }
   },
   "outputs": [],
   "source": []
  },
  {
   "cell_type": "code",
   "execution_count": 40,
   "metadata": {
    "ExecuteTime": {
     "end_time": "2020-06-19T05:37:27.223957Z",
     "start_time": "2020-06-19T05:37:27.192761Z"
    },
    "code_folding": []
   },
   "outputs": [],
   "source": [
    "#Number of Collision\n",
    "Collision=0\n",
    "for i in my_dict.keys():\n",
    "    Collision=Collision+math.factorial((my_dict[i]))//2\n",
    "    "
   ]
  },
  {
   "cell_type": "code",
   "execution_count": 41,
   "metadata": {
    "ExecuteTime": {
     "end_time": "2020-06-19T05:37:28.190970Z",
     "start_time": "2020-06-19T05:37:28.175319Z"
    }
   },
   "outputs": [
    {
     "data": {
      "text/plain": [
       "4"
      ]
     },
     "execution_count": 41,
     "metadata": {},
     "output_type": "execute_result"
    }
   ],
   "source": [
    "print(Collision)"
   ]
  },
  {
   "cell_type": "code",
   "execution_count": null,
   "metadata": {
    "ExecuteTime": {
     "end_time": "2020-06-19T05:20:44.559172Z",
     "start_time": "2020-06-19T05:20:44.527904Z"
    }
   },
   "outputs": [],
   "source": []
  },
  {
   "cell_type": "code",
   "execution_count": null,
   "metadata": {},
   "outputs": [],
   "source": []
  },
  {
   "cell_type": "code",
   "execution_count": 2,
   "metadata": {
    "ExecuteTime": {
     "end_time": "2020-06-19T07:23:01.574651Z",
     "start_time": "2020-06-19T07:23:01.543464Z"
    }
   },
   "outputs": [],
   "source": []
  },
  {
   "cell_type": "code",
   "execution_count": 3,
   "metadata": {
    "ExecuteTime": {
     "end_time": "2020-06-19T07:23:08.761541Z",
     "start_time": "2020-06-19T07:23:08.730310Z"
    }
   },
   "outputs": [
    {
     "data": {
      "text/plain": [
       "34"
      ]
     },
     "execution_count": 3,
     "metadata": {},
     "output_type": "execute_result"
    }
   ],
   "source": []
  },
  {
   "cell_type": "code",
   "execution_count": null,
   "metadata": {},
   "outputs": [],
   "source": []
  }
 ],
 "metadata": {
  "kernelspec": {
   "display_name": "Python 3",
   "language": "python",
   "name": "python3"
  },
  "language_info": {
   "codemirror_mode": {
    "name": "ipython",
    "version": 3
   },
   "file_extension": ".py",
   "mimetype": "text/x-python",
   "name": "python",
   "nbconvert_exporter": "python",
   "pygments_lexer": "ipython3",
   "version": "3.7.6"
  },
  "toc": {
   "base_numbering": 1,
   "nav_menu": {},
   "number_sections": true,
   "sideBar": true,
   "skip_h1_title": false,
   "title_cell": "Table of Contents",
   "title_sidebar": "Contents",
   "toc_cell": false,
   "toc_position": {},
   "toc_section_display": true,
   "toc_window_display": false
  }
 },
 "nbformat": 4,
 "nbformat_minor": 4
}
