{
 "cells": [
  {
   "cell_type": "code",
   "execution_count": null,
   "metadata": {
    "ExecuteTime": {
     "end_time": "2020-06-19T08:26:48.607856Z",
     "start_time": "2020-06-19T08:26:45.441259Z"
    }
   },
   "outputs": [],
   "source": [
    "input_list=list(map(int,input().split(\" \")))\n",
    "x=input_list[0] \n",
    "y=input_list[1]"
   ]
  },
  {
   "cell_type": "code",
   "execution_count": null,
   "metadata": {
    "ExecuteTime": {
     "end_time": "2020-06-19T08:26:49.218227Z",
     "start_time": "2020-06-19T08:26:49.186997Z"
    }
   },
   "outputs": [],
   "source": [
    "def check_Prime(i):\n",
    "    for j in range(2, i):\n",
    "        if(i % j == 0):\n",
    "            break\n",
    "    else:\n",
    "        return i"
   ]
  },
  {
   "cell_type": "code",
   "execution_count": null,
   "metadata": {
    "ExecuteTime": {
     "end_time": "2020-06-19T08:26:49.761826Z",
     "start_time": "2020-06-19T08:26:49.730346Z"
    }
   },
   "outputs": [],
   "source": [
    "prime_number = []\n",
    "for i in range(x, y):\n",
    "    if(i == check_Prime(i)):\n",
    "        prime_number.append(i)"
   ]
  },
  {
   "cell_type": "code",
   "execution_count": null,
   "metadata": {
    "ExecuteTime": {
     "end_time": "2020-06-19T08:26:50.224414Z",
     "start_time": "2020-06-19T08:26:50.208799Z"
    }
   },
   "outputs": [],
   "source": [
    "P=prime_number[:]\n"
   ]
  },
  {
   "cell_type": "code",
   "execution_count": null,
   "metadata": {
    "ExecuteTime": {
     "end_time": "2020-06-19T08:26:50.903802Z",
     "start_time": "2020-06-19T08:26:50.888183Z"
    }
   },
   "outputs": [],
   "source": [
    "my_dict = {}\n",
    "for i in range(len(prime_number)):\n",
    "    for j in range(len(prime_number)):\n",
    "        if(prime_number[i] == P[j]):\n",
    "            pass\n",
    "        else:\n",
    "            x = str(prime_number[i])+str(prime_number[j])\n",
    "            x = int(x)\n",
    "            my_dict[x] = x"
   ]
  },
  {
   "cell_type": "code",
   "execution_count": null,
   "metadata": {
    "ExecuteTime": {
     "end_time": "2020-06-19T08:26:51.577588Z",
     "start_time": "2020-06-19T08:26:51.562027Z"
    }
   },
   "outputs": [],
   "source": [
    "combination_list=list(my_dict.keys())\n"
   ]
  },
  {
   "cell_type": "code",
   "execution_count": null,
   "metadata": {
    "ExecuteTime": {
     "end_time": "2020-06-19T08:26:52.194913Z",
     "start_time": "2020-06-19T08:26:52.163724Z"
    }
   },
   "outputs": [],
   "source": [
    "prime_numberList2=[]\n",
    "for i in combination_list:\n",
    "    if(i==check_Prime(i)):\n",
    "        prime_numberList2.append(i)"
   ]
  },
  {
   "cell_type": "code",
   "execution_count": null,
   "metadata": {
    "ExecuteTime": {
     "end_time": "2020-06-19T08:26:52.796274Z",
     "start_time": "2020-06-19T08:26:52.780656Z"
    }
   },
   "outputs": [],
   "source": [
    "lowest=min(prime_numberList2)\n",
    "highest=max(prime_numberList2)"
   ]
  },
  {
   "cell_type": "code",
   "execution_count": null,
   "metadata": {
    "ExecuteTime": {
     "end_time": "2020-06-19T08:26:53.403601Z",
     "start_time": "2020-06-19T08:26:53.372367Z"
    }
   },
   "outputs": [],
   "source": [
    "def Find_Fibonaci(y,z,x):\n",
    "    sum_list=[y,z]\n",
    "    for i in range(x-2):\n",
    "        m=sum_list[i]+sum_list[i+1]\n",
    "        sum_list.append(m)\n",
    "    return sum_list[-1]     "
   ]
  },
  {
   "cell_type": "code",
   "execution_count": null,
   "metadata": {
    "ExecuteTime": {
     "end_time": "2020-06-19T08:26:54.197090Z",
     "start_time": "2020-06-19T08:26:54.181480Z"
    }
   },
   "outputs": [],
   "source": [
    "print(Find_Fibonaci(lowest,highest,len(prime_numberList2)))"
   ]
  },
  {
   "cell_type": "code",
   "execution_count": null,
   "metadata": {},
   "outputs": [],
   "source": []
  }
 ],
 "metadata": {
  "kernelspec": {
   "display_name": "Python 3",
   "language": "python",
   "name": "python3"
  },
  "language_info": {
   "codemirror_mode": {
    "name": "ipython",
    "version": 3
   },
   "file_extension": ".py",
   "mimetype": "text/x-python",
   "name": "python",
   "nbconvert_exporter": "python",
   "pygments_lexer": "ipython3",
   "version": "3.7.6"
  },
  "toc": {
   "base_numbering": 1,
   "nav_menu": {},
   "number_sections": true,
   "sideBar": true,
   "skip_h1_title": false,
   "title_cell": "Table of Contents",
   "title_sidebar": "Contents",
   "toc_cell": false,
   "toc_position": {},
   "toc_section_display": true,
   "toc_window_display": false
  }
 },
 "nbformat": 4,
 "nbformat_minor": 4
}
