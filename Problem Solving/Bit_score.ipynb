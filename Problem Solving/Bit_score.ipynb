{
 "cells": [
  {
   "cell_type": "code",
   "execution_count": 98,
   "metadata": {
    "ExecuteTime": {
     "end_time": "2020-07-18T05:29:26.569146Z",
     "start_time": "2020-07-18T05:29:16.392858Z"
    }
   },
   "outputs": [
    {
     "name": "stdout",
     "output_type": "stream",
     "text": [
      "4\n",
      "3 3 3 3\n"
     ]
    }
   ],
   "source": [
    "n=int(input())\n",
    "l1=[]\n",
    "l1=list(map(int, input().split(\" \")))\n",
    "import math"
   ]
  },
  {
   "cell_type": "code",
   "execution_count": 99,
   "metadata": {
    "ExecuteTime": {
     "end_time": "2020-07-18T05:29:27.564240Z",
     "start_time": "2020-07-18T05:29:27.533051Z"
    }
   },
   "outputs": [
    {
     "ename": "SyntaxError",
     "evalue": "invalid syntax (<ipython-input-99-1a4e1b32a813>, line 1)",
     "output_type": "error",
     "traceback": [
      "\u001b[1;36m  File \u001b[1;32m\"<ipython-input-99-1a4e1b32a813>\"\u001b[1;36m, line \u001b[1;32m1\u001b[0m\n\u001b[1;33m    234 567 321 345 123 110 767 111\u001b[0m\n\u001b[1;37m          ^\u001b[0m\n\u001b[1;31mSyntaxError\u001b[0m\u001b[1;31m:\u001b[0m invalid syntax\n"
     ]
    }
   ],
   "source": [
    "234 567 321 345 123 110 767 111"
   ]
  },
  {
   "cell_type": "code",
   "execution_count": 100,
   "metadata": {
    "ExecuteTime": {
     "end_time": "2020-07-18T05:29:28.320431Z",
     "start_time": "2020-07-18T05:29:28.304805Z"
    }
   },
   "outputs": [],
   "source": [
    "def max_min(n):\n",
    "    max1=-1\n",
    "    min1=9\n",
    "    for i in str(n):\n",
    "        if(int(i)>max1):\n",
    "            max1=int(i)\n",
    "        if(int(i)<min1):\n",
    "            min1=int(i)\n",
    "    return (max1,min1)"
   ]
  },
  {
   "cell_type": "code",
   "execution_count": null,
   "metadata": {},
   "outputs": [],
   "source": []
  },
  {
   "cell_type": "code",
   "execution_count": 101,
   "metadata": {
    "ExecuteTime": {
     "end_time": "2020-07-18T05:29:30.134376Z",
     "start_time": "2020-07-18T05:29:30.118751Z"
    }
   },
   "outputs": [],
   "source": [
    "l2=[]\n",
    "for i in l1:\n",
    "    x=max_min(i)\n",
    "    m=str(x[0]*11+x[1]*7)\n",
    "    m=int(m[-2:-1])\n",
    "    l2.append(m)\n",
    "    "
   ]
  },
  {
   "cell_type": "code",
   "execution_count": 102,
   "metadata": {
    "ExecuteTime": {
     "end_time": "2020-07-18T05:29:30.708347Z",
     "start_time": "2020-07-18T05:29:30.692725Z"
    }
   },
   "outputs": [
    {
     "data": {
      "text/plain": [
       "[5, 5, 5, 5]"
      ]
     },
     "execution_count": 102,
     "metadata": {},
     "output_type": "execute_result"
    }
   ],
   "source": [
    "l2"
   ]
  },
  {
   "cell_type": "code",
   "execution_count": 103,
   "metadata": {
    "ExecuteTime": {
     "end_time": "2020-07-18T05:29:34.532643Z",
     "start_time": "2020-07-18T05:29:34.516992Z"
    }
   },
   "outputs": [],
   "source": [
    "def pair_check(l1):\n",
    "    my_dict={}\n",
    "    count = 0\n",
    "    for j in range(0, len(l1)):\n",
    "          if(l1[j]  not in my_dict.keys()):\n",
    "            for i in range(j+1,len(l1)):\n",
    "                if(l1[j]==l1[i]):\n",
    "                    if(j%2==i%2):\n",
    "                            my_dict[l1[j]]=my_dict.get(l1[j],0)+1\n",
    "    return(sum((my_dict.values())))"
   ]
  },
  {
   "cell_type": "code",
   "execution_count": null,
   "metadata": {
    "ExecuteTime": {
     "end_time": "2020-07-18T04:50:37.574112Z",
     "start_time": "2020-07-18T04:50:37.558490Z"
    }
   },
   "outputs": [],
   "source": []
  },
  {
   "cell_type": "code",
   "execution_count": 105,
   "metadata": {
    "ExecuteTime": {
     "end_time": "2020-07-18T05:29:53.025228Z",
     "start_time": "2020-07-18T05:29:52.994020Z"
    }
   },
   "outputs": [
    {
     "name": "stdout",
     "output_type": "stream",
     "text": [
      "1\n"
     ]
    }
   ],
   "source": [
    "print(pair_check(l2))\n"
   ]
  },
  {
   "cell_type": "code",
   "execution_count": 136,
   "metadata": {
    "ExecuteTime": {
     "end_time": "2020-07-18T05:57:07.535182Z",
     "start_time": "2020-07-18T05:57:03.143003Z"
    }
   },
   "outputs": [
    {
     "name": "stdout",
     "output_type": "stream",
     "text": [
      "87 65 45\n"
     ]
    }
   ],
   "source": [
    "l=list(map(int, input().split(\" \")))\n"
   ]
  },
  {
   "cell_type": "code",
   "execution_count": 133,
   "metadata": {
    "ExecuteTime": {
     "end_time": "2020-07-18T05:50:38.516718Z",
     "start_time": "2020-07-18T05:50:38.501093Z"
    }
   },
   "outputs": [
    {
     "data": {
      "text/plain": [
       "[16, 11, 10, 6, 5, 4, 3, 3, 2, 1]"
      ]
     },
     "execution_count": 133,
     "metadata": {},
     "output_type": "execute_result"
    }
   ],
   "source": [
    "l=sorted(l,reverse=True)\n",
    "l"
   ]
  },
  {
   "cell_type": "code",
   "execution_count": 134,
   "metadata": {
    "ExecuteTime": {
     "end_time": "2020-07-18T05:50:39.018250Z",
     "start_time": "2020-07-18T05:50:38.986997Z"
    }
   },
   "outputs": [],
   "source": [
    "l1=[]\n",
    "l2=[]"
   ]
  },
  {
   "cell_type": "code",
   "execution_count": 135,
   "metadata": {
    "ExecuteTime": {
     "end_time": "2020-07-18T05:50:39.519525Z",
     "start_time": "2020-07-18T05:50:39.488278Z"
    }
   },
   "outputs": [
    {
     "data": {
      "text/plain": [
       "31"
      ]
     },
     "execution_count": 135,
     "metadata": {},
     "output_type": "execute_result"
    }
   ],
   "source": [
    "for i in range(len(l)):\n",
    "    if(sum(l1)+l[i]>sum(l2)+l[i]):\n",
    "        l2.append(l[i])\n",
    "    else:\n",
    "        l1.append(l[i])\n",
    "max(sum(l1),sum(l2))"
   ]
  },
  {
   "cell_type": "code",
   "execution_count": 128,
   "metadata": {
    "ExecuteTime": {
     "end_time": "2020-07-18T05:49:11.651410Z",
     "start_time": "2020-07-18T05:49:11.635786Z"
    }
   },
   "outputs": [
    {
     "data": {
      "text/plain": [
       "[11, 10, 5, 3, 1]"
      ]
     },
     "execution_count": 128,
     "metadata": {},
     "output_type": "execute_result"
    }
   ],
   "source": [
    "l2"
   ]
  },
  {
   "cell_type": "code",
   "execution_count": 130,
   "metadata": {
    "ExecuteTime": {
     "end_time": "2020-07-18T05:49:21.378011Z",
     "start_time": "2020-07-18T05:49:21.346814Z"
    }
   },
   "outputs": [
    {
     "data": {
      "text/plain": [
       "[16, 6, 4, 3, 2]"
      ]
     },
     "execution_count": 130,
     "metadata": {},
     "output_type": "execute_result"
    }
   ],
   "source": [
    "l1"
   ]
  },
  {
   "cell_type": "code",
   "execution_count": 139,
   "metadata": {
    "ExecuteTime": {
     "end_time": "2020-07-18T07:10:01.950191Z",
     "start_time": "2020-07-18T07:10:01.918916Z"
    }
   },
   "outputs": [],
   "source": [
    "l1=['a','b','c']\n",
    "l1.remove('a')"
   ]
  },
  {
   "cell_type": "code",
   "execution_count": 143,
   "metadata": {
    "ExecuteTime": {
     "end_time": "2020-07-18T07:10:33.213785Z",
     "start_time": "2020-07-18T07:10:33.198162Z"
    }
   },
   "outputs": [],
   "source": [
    "l1.insert(1,'a')"
   ]
  },
  {
   "cell_type": "code",
   "execution_count": 145,
   "metadata": {
    "ExecuteTime": {
     "end_time": "2020-07-18T07:11:17.784093Z",
     "start_time": "2020-07-18T07:11:17.752908Z"
    }
   },
   "outputs": [
    {
     "data": {
      "text/plain": [
       "'a'"
      ]
     },
     "execution_count": 145,
     "metadata": {},
     "output_type": "execute_result"
    }
   ],
   "source": [
    "l1.pop()\n"
   ]
  },
  {
   "cell_type": "code",
   "execution_count": 146,
   "metadata": {
    "ExecuteTime": {
     "end_time": "2020-07-18T07:11:25.483239Z",
     "start_time": "2020-07-18T07:11:25.451996Z"
    }
   },
   "outputs": [
    {
     "data": {
      "text/plain": [
       "['b', 'a', 'c']"
      ]
     },
     "execution_count": 146,
     "metadata": {},
     "output_type": "execute_result"
    }
   ],
   "source": [
    "l1"
   ]
  },
  {
   "cell_type": "code",
   "execution_count": 151,
   "metadata": {
    "ExecuteTime": {
     "end_time": "2020-07-18T07:55:02.749148Z",
     "start_time": "2020-07-18T07:55:02.733529Z"
    }
   },
   "outputs": [],
   "source": [
    "def fun(a):\n",
    "    x=a[0]*a[1]\n",
    "    min1=min(a)\n",
    "    max1=max(a)\n",
    "    v=min1\n",
    "    count=1\n",
    "    while(v**2<x):\n",
    "        count=count+1\n",
    "        x=x-v**2\n",
    "        v=max1-min1\n",
    "        \n",
    "    return count"
   ]
  },
  {
   "cell_type": "code",
   "execution_count": 153,
   "metadata": {
    "ExecuteTime": {
     "end_time": "2020-07-18T07:55:30.782710Z",
     "start_time": "2020-07-18T07:55:30.767060Z"
    }
   },
   "outputs": [
    {
     "data": {
      "text/plain": [
       "5"
      ]
     },
     "execution_count": 153,
     "metadata": {},
     "output_type": "execute_result"
    }
   ],
   "source": []
  },
  {
   "cell_type": "code",
   "execution_count": 3,
   "metadata": {
    "ExecuteTime": {
     "end_time": "2020-07-18T08:20:26.829462Z",
     "start_time": "2020-07-18T08:20:20.534343Z"
    }
   },
   "outputs": [
    {
     "name": "stdout",
     "output_type": "stream",
     "text": [
      "5\n",
      "7\n",
      "3\n",
      "4\n",
      "[5, 6, 7] [3, 4]\n",
      "[(5, 3), (5, 4), (6, 3), (6, 4), (7, 3), (7, 4)]\n",
      "3\n",
      "5\n",
      "2\n",
      "3\n",
      "2\n",
      "3\n",
      "18\n"
     ]
    }
   ],
   "source": [
    "import itertools\n",
    "min_len = int(input())\n",
    "max_len = int(input())\n",
    "min_wid = int(input())\n",
    "max_wid = int(input())\n",
    "\n",
    "l1 = []\n",
    "l2 = []\n",
    "for i in range(min_len, max_len+1):\n",
    "    l1.append(i)\n",
    "    \n",
    "\n",
    "for i in range(min_wid, max_wid+1):\n",
    "    l2.append(i)\n",
    "print(l1,l2)\n",
    "\n",
    "l = list(itertools.product(l1,l2))\n",
    "print(l)\n",
    "\n",
    "\n",
    "def fun(a):\n",
    "    x = a[0]*a[1]\n",
    "    \n",
    "    min1 = min(a)\n",
    "    max1 = max(a)\n",
    "    v = min1\n",
    "    count = 1\n",
    "    while(v**2 < x):\n",
    "        count = count+1\n",
    "        x = x-v**2\n",
    "        v = max1-min1\n",
    "    print(count)\n",
    "    return count\n",
    "\n",
    "\n",
    "y = 0\n",
    "for i in l:\n",
    "    y = y+fun(i)\n",
    "print(y)"
   ]
  },
  {
   "cell_type": "code",
   "execution_count": null,
   "metadata": {},
   "outputs": [],
   "source": []
  }
 ],
 "metadata": {
  "kernelspec": {
   "display_name": "Python 3",
   "language": "python",
   "name": "python3"
  },
  "language_info": {
   "codemirror_mode": {
    "name": "ipython",
    "version": 3
   },
   "file_extension": ".py",
   "mimetype": "text/x-python",
   "name": "python",
   "nbconvert_exporter": "python",
   "pygments_lexer": "ipython3",
   "version": "3.7.6"
  },
  "toc": {
   "base_numbering": 1,
   "nav_menu": {},
   "number_sections": true,
   "sideBar": true,
   "skip_h1_title": false,
   "title_cell": "Table of Contents",
   "title_sidebar": "Contents",
   "toc_cell": false,
   "toc_position": {},
   "toc_section_display": true,
   "toc_window_display": false
  }
 },
 "nbformat": 4,
 "nbformat_minor": 4
}
