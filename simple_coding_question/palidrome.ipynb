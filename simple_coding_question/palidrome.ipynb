{
 "cells": [
  {
   "cell_type": "code",
   "execution_count": 14,
   "metadata": {},
   "outputs": [
    {
     "name": "stdout",
     "output_type": "stream",
     "text": [
      "1\n",
      "12\n",
      "121\n",
      "Yes It's Palidrome\n"
     ]
    }
   ],
   "source": [
    "n=121\n",
    "\n",
    "x=0\n",
    "temp=n\n",
    "while n>0:\n",
    "    digit=n%10  #1\n",
    "    x=digit+(x*10) #10 \n",
    "    print(x)\n",
    "    n=n//10 \n",
    "\n",
    "if x==temp:\n",
    "    print(\"Yes It's Palidrome\")\n",
    "else:\n",
    "    print(\"Not Palidrome \")"
   ]
  },
  {
   "cell_type": "code",
   "execution_count": null,
   "metadata": {},
   "outputs": [],
   "source": []
  },
  {
   "cell_type": "code",
   "execution_count": null,
   "metadata": {},
   "outputs": [],
   "source": []
  }
 ],
 "metadata": {
  "kernelspec": {
   "display_name": "Python 3",
   "language": "python",
   "name": "python3"
  },
  "language_info": {
   "codemirror_mode": {
    "name": "ipython",
    "version": 3
   },
   "file_extension": ".py",
   "mimetype": "text/x-python",
   "name": "python",
   "nbconvert_exporter": "python",
   "pygments_lexer": "ipython3",
   "version": "3.8.10"
  },
  "orig_nbformat": 4
 },
 "nbformat": 4,
 "nbformat_minor": 2
}
