{
 "cells": [
  {
   "cell_type": "code",
   "execution_count": 7,
   "metadata": {},
   "outputs": [
    {
     "name": "stdout",
     "output_type": "stream",
     "text": [
      "153\n",
      "Armstrong Numer\n"
     ]
    }
   ],
   "source": [
    "num=153\n",
    "\n",
    "temp1=num\n",
    "temp2=num\n",
    "number_length=0\n",
    "while num>0:\n",
    "    number_length+=1\n",
    "    num=num//10\n",
    "\n",
    "\n",
    "sum=0\n",
    "\n",
    "while temp1>0:\n",
    "    digit=temp1%10\n",
    "    sum+=digit**number_length\n",
    "    temp1=temp1//10\n",
    "\n",
    "\n",
    "print(sum)\n",
    "if sum==temp2:\n",
    "    print(\"Armstrong Numer\")\n",
    "else:\n",
    "    print(\"It's not Armstrong Numer\")"
   ]
  },
  {
   "cell_type": "code",
   "execution_count": null,
   "metadata": {},
   "outputs": [],
   "source": []
  },
  {
   "cell_type": "code",
   "execution_count": null,
   "metadata": {},
   "outputs": [],
   "source": []
  }
 ],
 "metadata": {
  "kernelspec": {
   "display_name": "Python 3",
   "language": "python",
   "name": "python3"
  },
  "language_info": {
   "codemirror_mode": {
    "name": "ipython",
    "version": 3
   },
   "file_extension": ".py",
   "mimetype": "text/x-python",
   "name": "python",
   "nbconvert_exporter": "python",
   "pygments_lexer": "ipython3",
   "version": "3.8.10"
  },
  "orig_nbformat": 4
 },
 "nbformat": 4,
 "nbformat_minor": 2
}
