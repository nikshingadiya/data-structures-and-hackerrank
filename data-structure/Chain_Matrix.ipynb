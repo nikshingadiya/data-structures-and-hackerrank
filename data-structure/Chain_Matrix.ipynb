{
 "cells": [
  {
   "cell_type": "code",
   "execution_count": 1,
   "metadata": {
    "ExecuteTime": {
     "end_time": "2021-01-27T16:05:22.256377Z",
     "start_time": "2021-01-27T16:05:22.211972Z"
    }
   },
   "outputs": [
    {
     "name": "stdout",
     "output_type": "stream",
     "text": [
      "i  1  j  2  k  1 -->   m 1 1  + m 2 2  + p 0 p 1 p 2  =  0 + 0 + 120  | total  120\n",
      "loop k end\n",
      "i  2  j  3  k  2 -->   m 2 2  + m 3 3  + p 1 p 2 p 3  =  0 + 0 + 360  | total  360\n",
      "loop k end\n",
      "i  3  j  4  k  3 -->   m 3 3  + m 4 4  + p 2 p 3 p 4  =  0 + 0 + 720  | total  720\n",
      "loop k end\n",
      "i  1  j  3  k  1 -->   m 1 1  + m 2 3  + p 0 p 1 p 3  =  0 + 360 + 480  | total  840\n",
      "i  1  j  3  k  2 -->   m 1 2  + m 3 3  + p 0 p 2 p 3  =  120 + 0 + 144  | total  264\n",
      "loop k end\n",
      "i  2  j  4  k  2 -->   m 2 2  + m 3 4  + p 1 p 2 p 4  =  0 + 720 + 600  | total  1320\n",
      "i  2  j  4  k  3 -->   m 2 3  + m 4 4  + p 1 p 3 p 4  =  360 + 0 + 2400  | total  2760\n",
      "loop k end\n",
      "i  1  j  4  k  1 -->   m 1 1  + m 2 4  + p 0 p 1 p 4  =  0 + 1320 + 800  | total  2120\n",
      "i  1  j  4  k  2 -->   m 1 2  + m 3 4  + p 0 p 2 p 4  =  120 + 720 + 240  | total  1080\n",
      "i  1  j  4  k  3 -->   m 1 3  + m 4 4  + p 0 p 3 p 4  =  264 + 0 + 960  | total  1224\n",
      "loop k end\n",
      "[[0, 0, 0, 0, 0], [0, 0, 120, 264, 1080], [0, 0, 0, 360, 1320], [0, 0, 0, 0, 720], [0, 0, 0, 0, 0]]\n",
      "Minimum number of multiplications is 1080\n"
     ]
    }
   ],
   "source": [
    "import sys\n",
    "def chain_matrix(p,l):\n",
    "    n=l\n",
    "    m=[[0 for i in range(l)] for j in range(l)]\n",
    "    for x in range(2,l):\n",
    "        for y in range(1,l-x+1):\n",
    "            i=y\n",
    "            j=x+y-1\n",
    "            m[i][j]=sys.maxsize\n",
    "            for k in range(i, j):                 \n",
    "                q = m[i][k] + m[k + 1][j] + p[i-1]*p[k]*p[j] \n",
    "                print(\"i \",i,\" j \",j,\" k \",k,\"-->  \", \"m\",i,k,\" + m\",k+1,j,\" + p\",i-1,\"p\",k,\"p\",j,\" = \",m[i][k] ,\"+\",\n",
    "                      m[k + 1][j] ,\"+\", p[i-1]*p[k]*p[j],\" | total \",q)\n",
    "                if q < m[i][j]: \n",
    "                    m[i][j] = q\n",
    "            print(\"loop k end\") \n",
    "    print(m)\n",
    "    return m[1][n-1] \n",
    "\n",
    "# arr = [1,2,3,4,5] \n",
    "# arr=[10,100,5,50,1]\n",
    "# arr=[15,5,10,20,25]\n",
    "arr=[4,10,3,12,20]\n",
    "size = len(arr)  \n",
    "print(\"Minimum number of multiplications is \" +str(chain_matrix(arr, size))) \n"
   ]
  },
  {
   "cell_type": "code",
   "execution_count": 3,
   "metadata": {
    "ExecuteTime": {
     "end_time": "2021-01-23T10:05:12.549831Z",
     "start_time": "2021-01-23T10:05:12.528844Z"
    }
   },
   "outputs": [
    {
     "data": {
      "text/plain": [
       "9223372036854775807"
      ]
     },
     "execution_count": 3,
     "metadata": {},
     "output_type": "execute_result"
    }
   ],
   "source": [
    "sys.maxsize"
   ]
  },
  {
   "cell_type": "code",
   "execution_count": null,
   "metadata": {},
   "outputs": [],
   "source": []
  }
 ],
 "metadata": {
  "kernelspec": {
   "display_name": "Python 3",
   "language": "python",
   "name": "python3"
  },
  "language_info": {
   "codemirror_mode": {
    "name": "ipython",
    "version": 3
   },
   "file_extension": ".py",
   "mimetype": "text/x-python",
   "name": "python",
   "nbconvert_exporter": "python",
   "pygments_lexer": "ipython3",
   "version": "3.7.9"
  },
  "latex_envs": {
   "LaTeX_envs_menu_present": true,
   "autoclose": false,
   "autocomplete": true,
   "bibliofile": "biblio.bib",
   "cite_by": "apalike",
   "current_citInitial": 1,
   "eqLabelWithNumbers": true,
   "eqNumInitial": 1,
   "hotkeys": {
    "equation": "Ctrl-E",
    "itemize": "Ctrl-I"
   },
   "labels_anchors": false,
   "latex_user_defs": false,
   "report_style_numbering": false,
   "user_envs_cfg": false
  },
  "toc": {
   "base_numbering": 1,
   "nav_menu": {},
   "number_sections": true,
   "sideBar": true,
   "skip_h1_title": false,
   "title_cell": "Table of Contents",
   "title_sidebar": "Contents",
   "toc_cell": false,
   "toc_position": {},
   "toc_section_display": true,
   "toc_window_display": false
  }
 },
 "nbformat": 4,
 "nbformat_minor": 4
}
