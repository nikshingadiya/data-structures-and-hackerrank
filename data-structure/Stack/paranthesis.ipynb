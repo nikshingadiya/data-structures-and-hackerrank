{
 "cells": [
  {
   "cell_type": "code",
   "execution_count": 13,
   "metadata": {},
   "outputs": [
    {
     "name": "stdout",
     "output_type": "stream",
     "text": [
      "{[]{}{}()} - Balanced\n",
      "((() - Unbalanced\n"
     ]
    }
   ],
   "source": [
    "# Python3 code to Check for\n",
    "# balanced parentheses in an expression\n",
    "def check(expression):\n",
    "\t\n",
    "\topen_tup = tuple('({[')\n",
    "\tclose_tup = tuple(')}]')\n",
    "\tmap = dict(zip(open_tup, close_tup))\n",
    "\tqueue = []\n",
    "\n",
    "\tfor i in expression:\n",
    "\t\tif i in open_tup:\n",
    "\t\t\tqueue.append(map[i])\n",
    "\t\telif i in close_tup:\n",
    "\t\t\tif not queue or i != queue.pop():\n",
    "\t\t\t\treturn \"Unbalanced\"\n",
    "\tif not queue:\n",
    "\t\treturn \"Balanced\"\n",
    "\telse:\n",
    "\t\treturn \"Unbalanced\"\n",
    "\n",
    "# Driver code\n",
    "string = \"{[]{}{}()}\"\n",
    "print(string, \"-\", check(string))\n",
    "\n",
    "string = \"((()\"\n",
    "print(string,\"-\",check(string))\n"
   ]
  },
  {
   "cell_type": "code",
   "execution_count": 28,
   "metadata": {},
   "outputs": [],
   "source": [
    "def check(s):\n",
    "    open_tup=tuple(\"({[\")\n",
    "    close_tup=tuple(\")}]\")\n",
    "    map = dict(zip(open_tup, close_tup))\n",
    "    print(map)\n",
    "\n",
    "    stack=[]\n",
    "    for i in s:\n",
    "        if i in open_tup:\n",
    "            print(i)\n",
    "            print(map[i])\n",
    "            stack.append(map[i])\n",
    "        elif i in close_tup:\n",
    "            if not stack or i != stack.pop():\n",
    "                return \"U\"\n",
    "    if not stack:\n",
    "        return \"B\"\n",
    "    else:\n",
    "        return \"U\"\n",
    "    "
   ]
  },
  {
   "cell_type": "code",
   "execution_count": 29,
   "metadata": {},
   "outputs": [
    {
     "name": "stdout",
     "output_type": "stream",
     "text": [
      "{'(': ')', '{': '}', '[': ']'}\n",
      "{\n",
      "}\n",
      "[\n",
      "]\n",
      "{\n",
      "}\n",
      "{\n",
      "}\n",
      "(\n",
      ")\n",
      "{[]{}{}()} - B\n",
      "{'(': ')', '{': '}', '[': ']'}\n",
      "(\n",
      ")\n",
      "(\n",
      ")\n",
      "(\n",
      ")\n",
      "((() - U\n"
     ]
    }
   ],
   "source": [
    "# Driver code\n",
    "string = \"{[]{}{}()}\"\n",
    "print(string, \"-\", check(string))\n",
    "\n",
    "string = \"((()\"\n",
    "print(string,\"-\",check(string))"
   ]
  },
  {
   "cell_type": "code",
   "execution_count": null,
   "metadata": {},
   "outputs": [],
   "source": []
  }
 ],
 "metadata": {
  "kernelspec": {
   "display_name": "Python 3",
   "language": "python",
   "name": "python3"
  },
  "language_info": {
   "codemirror_mode": {
    "name": "ipython",
    "version": 3
   },
   "file_extension": ".py",
   "mimetype": "text/x-python",
   "name": "python",
   "nbconvert_exporter": "python",
   "pygments_lexer": "ipython3",
   "version": "3.8.10"
  },
  "orig_nbformat": 4
 },
 "nbformat": 4,
 "nbformat_minor": 2
}
