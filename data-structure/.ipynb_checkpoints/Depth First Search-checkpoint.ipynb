{
 "cells": [
  {
   "cell_type": "code",
   "execution_count": 1,
   "metadata": {
    "ExecuteTime": {
     "end_time": "2020-11-21T04:48:59.312723Z",
     "start_time": "2020-11-21T04:48:59.303728Z"
    }
   },
   "outputs": [],
   "source": [
    "class Node(object):\n",
    "    def __init__(self, name):\n",
    "        self.name = name\n",
    "\n",
    "    def get_name(self):\n",
    "        return self.name\n",
    "\n",
    "    def __str__(self):\n",
    "        return self.name"
   ]
  },
  {
   "cell_type": "code",
   "execution_count": 2,
   "metadata": {
    "ExecuteTime": {
     "end_time": "2020-11-21T04:48:59.461638Z",
     "start_time": "2020-11-21T04:48:59.317721Z"
    }
   },
   "outputs": [],
   "source": [
    "class Edge(object):\n",
    "    def __init__(self, src, dest):\n",
    "        self.src = src\n",
    "        self.dest = dest\n",
    "\n",
    "    def get_src(self):\n",
    "        return self.src\n",
    "\n",
    "    def get_dest(self):\n",
    "        return self.dest\n",
    "\n",
    "    def __str__(self):\n",
    "        return self.src.get_name()+\"-->\"+self.dest.get_name()"
   ]
  },
  {
   "cell_type": "code",
   "execution_count": 3,
   "metadata": {
    "ExecuteTime": {
     "end_time": "2020-11-21T04:48:59.548589Z",
     "start_time": "2020-11-21T04:48:59.465637Z"
    }
   },
   "outputs": [],
   "source": [
    "class Diagraph(object):\n",
    "    def __init__(self):\n",
    "        self.edges = {}\n",
    "    def addNode(self, node):\n",
    "        if node in self.edges:\n",
    "            pass\n",
    "        else:\n",
    "            self.edges[node] = []\n",
    "\n",
    "    def addEdge(self, edge):\n",
    "        src = edge.get_src()\n",
    "        dest = edge.get_dest()\n",
    "        if not ((src in self.edges) and (dest in self.edges)):\n",
    "            raise ValueError(\"Node not in Graph\")\n",
    "        else:\n",
    "            self.edges[src].append(dest)\n",
    "\n",
    "    def hashnode(self, node):\n",
    "        return node in self.edges\n",
    "\n",
    "    def getNode(self, name):\n",
    "        for i in self.edges:\n",
    "            if (i.get_name() == name):\n",
    "                return i\n",
    "        raise NameError(name)\n",
    "\n",
    "    def Adjacent_Node(self, name):\n",
    "        for i in self.edges:\n",
    "            if(i.get_name() == name):\n",
    "                return  [j.get_name() for j in self.edges[i]]\n",
    "        raise NameError(name)\n",
    "        \n",
    "    def childrenof(self, node):\n",
    "        return self.edges[node]\n",
    "    \n",
    "    def totalNode(self):\n",
    "        l1 = []\n",
    "        for i in self.edges.keys():\n",
    "            l1.append(i.get_name())\n",
    "        return l1\n",
    "\n",
    "    def __str__(self):\n",
    "        result = ''\n",
    "        for src in self.edges:\n",
    "            for dest in self.edges[src]:\n",
    "                result = result+src.get_name()+'->'+dest.get_name()+'\\n'\n",
    "        return result[:]"
   ]
  },
  {
   "cell_type": "code",
   "execution_count": 4,
   "metadata": {
    "ExecuteTime": {
     "end_time": "2020-11-21T04:48:59.681848Z",
     "start_time": "2020-11-21T04:48:59.553584Z"
    }
   },
   "outputs": [],
   "source": [
    "class Graph(Diagraph):\n",
    "    def addEdge(self, edge):\n",
    "        Diagraph.addEdge(self, edge)\n",
    "        rev = Edge(edge.get_dest(), edge.get_src())\n",
    "        Diagraph.addEdge(self, rev)"
   ]
  },
  {
   "cell_type": "code",
   "execution_count": 5,
   "metadata": {
    "ExecuteTime": {
     "end_time": "2020-11-21T04:48:59.839923Z",
     "start_time": "2020-11-21T04:48:59.684814Z"
    }
   },
   "outputs": [],
   "source": [
    "class WeightedGraph(Diagraph):\n",
    "    def __init__(self):\n",
    "        Diagraph.__init__(self)\n",
    "        self.edges = {}\n",
    "        self.weight={}\n",
    "    def addEdge(self,edge,weight):\n",
    "        src = edge.get_src()\n",
    "        dest = edge.get_dest()\n",
    "        if not ((src in self.edges) and (dest in self.edges)):\n",
    "            raise ValueError(\"Node not in Graph\")\n",
    "        else:\n",
    "            self.edges[src].append(dest)\n",
    "            self.edges[dest].append(src)\n",
    "            self.weight[(src,dest)]=weight\n",
    "            self.weight[(dest,src)]=weight\n",
    "            \n",
    "    def Diracted_edge(self,edge,weight):\n",
    "        src = edge.get_src()\n",
    "        dest = edge.get_dest()\n",
    "        if not ((src in self.edges) and (dest in self.edges)):\n",
    "            raise ValueError(\"Node not in Graph\")\n",
    "        else:\n",
    "            self.edges[src].append(dest)\n",
    "\n",
    "            self.weight[(src,dest)]=weight\n",
    "    def get_all_wedges(self):\n",
    "        dict1={}\n",
    "        for i in self.weight:\n",
    "            dict1[(i[0].get_name(),i[1].get_name())]=self.weight[i]\n",
    "        return dict1\n",
    "   \n",
    "   \n",
    "    def delete_edge(self,src,dest):\n",
    "        src=self.getNode(src)\n",
    "        dest=self.getNode(dest)\n",
    "        \n",
    "        l1=self.edges[src]\n",
    "        l1.remove(dest)\n",
    "        self.edges[src]=l1\n",
    "        l2=self.edges[dest]\n",
    "        l2.remove(src)\n",
    "        self.edges[dest]=l2\n",
    "\n",
    "           \n",
    "        del self.weight[(src,dest)]\n",
    "        \n",
    "    def get_weight(self,src,dest):\n",
    "        src=self.getNode(src)\n",
    "        dest=self.getNode(dest)\n",
    "        if not ((src in self.edges) and (dest in self.edges)):\n",
    "            raise ValueError(\"Node not in Graph\")\n",
    "        else:\n",
    "            return   self.weight[(src,dest)]\n",
    "        \n",
    "    def __str__(self):\n",
    "        result = ''\n",
    "        for src in self.edges:\n",
    "            for dest in self.edges[src]:\n",
    "                result = result+src.get_name()+'-'+'weight='+str(self.weight[(src,dest)])+'-'+dest.get_name()+'\\n'\n",
    "        return result[:]\n",
    "            "
   ]
  },
  {
   "cell_type": "code",
   "execution_count": 6,
   "metadata": {
    "ExecuteTime": {
     "end_time": "2020-11-21T04:48:59.990837Z",
     "start_time": "2020-11-21T04:48:59.844917Z"
    }
   },
   "outputs": [],
   "source": [
    "def Buildgraph(graphtype):\n",
    "    g = graphtype()\n",
    "    for i in ['A', 'B', 'C', 'D', 'E', 'F']:\n",
    "        g.addNode(Node(i))\n",
    "    g.addEdge(Edge(g.getNode('A'), g.getNode('B')))\n",
    "    g.addEdge(Edge(g.getNode('A'), g.getNode('C')))\n",
    "    g.addEdge(Edge(g.getNode('B'), g.getNode('D')))\n",
    "    g.addEdge(Edge(g.getNode('C'), g.getNode('E')))\n",
    "    g.addEdge(Edge(g.getNode('C'), g.getNode('D')))\n",
    "    g.addEdge(Edge(g.getNode('D'), g.getNode('F')))\n",
    "    return g"
   ]
  },
  {
   "cell_type": "code",
   "execution_count": 7,
   "metadata": {
    "ExecuteTime": {
     "end_time": "2020-11-21T04:49:00.171735Z",
     "start_time": "2020-11-21T04:48:59.998829Z"
    }
   },
   "outputs": [],
   "source": [
    "def WBuildgraph(graphtype):\n",
    "    g = graphtype()\n",
    "    for i in ['A', 'B', 'C', 'D', 'E', 'F']:\n",
    "        g.addNode(Node(i))\n",
    "    g.addEdge(Edge(g.getNode('A'), g.getNode('B')),3)\n",
    "    g.addEdge(Edge(g.getNode('A'), g.getNode('C')),4)\n",
    "    g.addEdge(Edge(g.getNode('B'), g.getNode('D')),2)\n",
    "    g.addEdge(Edge(g.getNode('C'), g.getNode('E')),1)\n",
    "    g.addEdge(Edge(g.getNode('C'), g.getNode('D')),2)\n",
    "    g.addEdge(Edge(g.getNode('D'), g.getNode('F')),3)\n",
    "    g.addEdge(Edge(g.getNode('A'), g.getNode('E')),8)\n",
    "    g.addEdge(Edge(g.getNode('E'), g.getNode('F')),7)\n",
    "    return g"
   ]
  },
  {
   "cell_type": "code",
   "execution_count": 8,
   "metadata": {
    "ExecuteTime": {
     "end_time": "2020-11-21T04:49:00.260944Z",
     "start_time": "2020-11-21T04:49:00.175728Z"
    },
    "scrolled": true
   },
   "outputs": [
    {
     "name": "stdout",
     "output_type": "stream",
     "text": [
      "A-weight=3-B\n",
      "A-weight=4-C\n",
      "A-weight=8-E\n",
      "B-weight=3-A\n",
      "B-weight=2-D\n",
      "C-weight=4-A\n",
      "C-weight=1-E\n",
      "C-weight=2-D\n",
      "D-weight=2-B\n",
      "D-weight=2-C\n",
      "D-weight=3-F\n",
      "E-weight=1-C\n",
      "E-weight=8-A\n",
      "E-weight=7-F\n",
      "F-weight=3-D\n",
      "F-weight=7-E\n",
      "\n"
     ]
    }
   ],
   "source": [
    "g=WBuildgraph(WeightedGraph)\n",
    "print(g)"
   ]
  },
  {
   "cell_type": "code",
   "execution_count": 9,
   "metadata": {
    "ExecuteTime": {
     "end_time": "2020-11-21T04:49:00.423747Z",
     "start_time": "2020-11-21T04:49:00.264923Z"
    }
   },
   "outputs": [],
   "source": [
    "def DFS(graph,start,end,path,shortest):\n",
    "    path=path+[start]\n",
    "    if start==end:\n",
    "        return path\n",
    "    for node in graph.childrenof(start):\n",
    "        if node not in path:\n",
    "            if shortest== None or len(path)<len(shortest):\n",
    "                newpath=DFS(graph, node ,end, path, shortest)\n",
    "                if newpath !=None:\n",
    "                    shortest=newpath\n",
    "    return shortest"
   ]
  },
  {
   "cell_type": "code",
   "execution_count": 10,
   "metadata": {
    "ExecuteTime": {
     "end_time": "2020-11-21T04:49:00.566664Z",
     "start_time": "2020-11-21T04:49:00.427741Z"
    }
   },
   "outputs": [],
   "source": [
    "def shortestpath(graph,start,end):\n",
    "    \n",
    "    return  DFS(graph,start,end,[],None)"
   ]
  },
  {
   "cell_type": "code",
   "execution_count": 11,
   "metadata": {
    "ExecuteTime": {
     "end_time": "2020-11-21T04:49:00.704075Z",
     "start_time": "2020-11-21T04:49:00.570660Z"
    }
   },
   "outputs": [],
   "source": [
    "def testSp2(g,start,dest):\n",
    "    start=g.getNode(start)\n",
    "    if(start.get_name()==dest):\n",
    "        return True\n",
    "    else:\n",
    "        for node in g.childrenof(start):\n",
    "            return (g,node,start)\n",
    "        \n",
    "    return False\n",
    "    "
   ]
  },
  {
   "cell_type": "code",
   "execution_count": 12,
   "metadata": {
    "ExecuteTime": {
     "end_time": "2020-11-21T04:49:00.825386Z",
     "start_time": "2020-11-21T04:49:00.707070Z"
    }
   },
   "outputs": [
    {
     "data": {
      "text/plain": [
       "True"
      ]
     },
     "execution_count": 12,
     "metadata": {},
     "output_type": "execute_result"
    }
   ],
   "source": [
    "testSp2(g,'A','A')"
   ]
  },
  {
   "cell_type": "code",
   "execution_count": 13,
   "metadata": {
    "ExecuteTime": {
     "end_time": "2020-11-21T04:49:00.954886Z",
     "start_time": "2020-11-21T04:49:00.828381Z"
    }
   },
   "outputs": [],
   "source": [
    "def Kweightedgraph():\n",
    "    m=WeightedGraph()\n",
    "    return m"
   ]
  },
  {
   "cell_type": "code",
   "execution_count": 14,
   "metadata": {
    "ExecuteTime": {
     "end_time": "2020-11-21T04:49:01.094620Z",
     "start_time": "2020-11-21T04:49:00.957882Z"
    }
   },
   "outputs": [],
   "source": [
    "def clean_dict(d):\n",
    "    l1=list(d.keys())\n",
    "    l2=[]\n",
    "    for i in l1:\n",
    "        l2.append(sorted(i))\n",
    "        \n",
    "    return l2[::2]"
   ]
  },
  {
   "cell_type": "code",
   "execution_count": 15,
   "metadata": {
    "ExecuteTime": {
     "end_time": "2020-11-21T04:49:01.223280Z",
     "start_time": "2020-11-21T04:49:01.101615Z"
    }
   },
   "outputs": [],
   "source": [
    "def krushakal(g):\n",
    "    a = g.get_all_wedges()\n",
    "    a = dict(sorted(a.items(), key=lambda x: x[1]))\n",
    "    new_graph = Kweightedgraph()\n",
    "    keys_edge=clean_dict(a)\n",
    "    \n",
    "    for i in g.totalNode():\n",
    "        new_graph.addNode(Node(i))\n",
    "  \n",
    "    for j in keys_edge:\n",
    "       \n",
    "        new_graph.addEdge(Edge(new_graph.getNode(j[0]), new_graph.getNode(j[1])),a[tuple(j)])\n",
    "        new_graph.delete_edge(j[0],j[1])\n",
    "        print(testSp2(new_graph,j[0],j[0]),j[0],j[1])\n",
    "        if(testSp2(new_graph,j[0],j[0])):\n",
    "            new_graph.delete_edge(j[0],j[1])\n",
    "            \n",
    "            \n",
    "    print(new_graph.get_all_wedges())"
   ]
  },
  {
   "cell_type": "code",
   "execution_count": 16,
   "metadata": {
    "ExecuteTime": {
     "end_time": "2020-11-21T04:49:01.674808Z",
     "start_time": "2020-11-21T04:49:01.229257Z"
    }
   },
   "outputs": [
    {
     "name": "stdout",
     "output_type": "stream",
     "text": [
      "True C E\n"
     ]
    },
    {
     "ename": "ValueError",
     "evalue": "list.remove(x): x not in list",
     "output_type": "error",
     "traceback": [
      "\u001b[1;31m---------------------------------------------------------------------------\u001b[0m",
      "\u001b[1;31mValueError\u001b[0m                                Traceback (most recent call last)",
      "\u001b[1;32m<ipython-input-16-6dcff8319f0f>\u001b[0m in \u001b[0;36m<module>\u001b[1;34m\u001b[0m\n\u001b[1;32m----> 1\u001b[1;33m \u001b[0mkrushakal\u001b[0m\u001b[1;33m(\u001b[0m\u001b[0mg\u001b[0m\u001b[1;33m)\u001b[0m\u001b[1;33m\u001b[0m\u001b[1;33m\u001b[0m\u001b[0m\n\u001b[0m",
      "\u001b[1;32m<ipython-input-15-e5a5b7dbadcb>\u001b[0m in \u001b[0;36mkrushakal\u001b[1;34m(g)\u001b[0m\n\u001b[0;32m     14\u001b[0m         \u001b[0mprint\u001b[0m\u001b[1;33m(\u001b[0m\u001b[0mtestSp2\u001b[0m\u001b[1;33m(\u001b[0m\u001b[0mnew_graph\u001b[0m\u001b[1;33m,\u001b[0m\u001b[0mj\u001b[0m\u001b[1;33m[\u001b[0m\u001b[1;36m0\u001b[0m\u001b[1;33m]\u001b[0m\u001b[1;33m,\u001b[0m\u001b[0mj\u001b[0m\u001b[1;33m[\u001b[0m\u001b[1;36m0\u001b[0m\u001b[1;33m]\u001b[0m\u001b[1;33m)\u001b[0m\u001b[1;33m,\u001b[0m\u001b[0mj\u001b[0m\u001b[1;33m[\u001b[0m\u001b[1;36m0\u001b[0m\u001b[1;33m]\u001b[0m\u001b[1;33m,\u001b[0m\u001b[0mj\u001b[0m\u001b[1;33m[\u001b[0m\u001b[1;36m1\u001b[0m\u001b[1;33m]\u001b[0m\u001b[1;33m)\u001b[0m\u001b[1;33m\u001b[0m\u001b[1;33m\u001b[0m\u001b[0m\n\u001b[0;32m     15\u001b[0m         \u001b[1;32mif\u001b[0m\u001b[1;33m(\u001b[0m\u001b[0mtestSp2\u001b[0m\u001b[1;33m(\u001b[0m\u001b[0mnew_graph\u001b[0m\u001b[1;33m,\u001b[0m\u001b[0mj\u001b[0m\u001b[1;33m[\u001b[0m\u001b[1;36m0\u001b[0m\u001b[1;33m]\u001b[0m\u001b[1;33m,\u001b[0m\u001b[0mj\u001b[0m\u001b[1;33m[\u001b[0m\u001b[1;36m0\u001b[0m\u001b[1;33m]\u001b[0m\u001b[1;33m)\u001b[0m\u001b[1;33m)\u001b[0m\u001b[1;33m:\u001b[0m\u001b[1;33m\u001b[0m\u001b[1;33m\u001b[0m\u001b[0m\n\u001b[1;32m---> 16\u001b[1;33m             \u001b[0mnew_graph\u001b[0m\u001b[1;33m.\u001b[0m\u001b[0mdelete_edge\u001b[0m\u001b[1;33m(\u001b[0m\u001b[0mj\u001b[0m\u001b[1;33m[\u001b[0m\u001b[1;36m0\u001b[0m\u001b[1;33m]\u001b[0m\u001b[1;33m,\u001b[0m\u001b[0mj\u001b[0m\u001b[1;33m[\u001b[0m\u001b[1;36m1\u001b[0m\u001b[1;33m]\u001b[0m\u001b[1;33m)\u001b[0m\u001b[1;33m\u001b[0m\u001b[1;33m\u001b[0m\u001b[0m\n\u001b[0m\u001b[0;32m     17\u001b[0m \u001b[1;33m\u001b[0m\u001b[0m\n\u001b[0;32m     18\u001b[0m \u001b[1;33m\u001b[0m\u001b[0m\n",
      "\u001b[1;32m<ipython-input-5-956c28df66a1>\u001b[0m in \u001b[0;36mdelete_edge\u001b[1;34m(self, src, dest)\u001b[0m\n\u001b[0;32m     36\u001b[0m \u001b[1;33m\u001b[0m\u001b[0m\n\u001b[0;32m     37\u001b[0m         \u001b[0ml1\u001b[0m\u001b[1;33m=\u001b[0m\u001b[0mself\u001b[0m\u001b[1;33m.\u001b[0m\u001b[0medges\u001b[0m\u001b[1;33m[\u001b[0m\u001b[0msrc\u001b[0m\u001b[1;33m]\u001b[0m\u001b[1;33m\u001b[0m\u001b[1;33m\u001b[0m\u001b[0m\n\u001b[1;32m---> 38\u001b[1;33m         \u001b[0ml1\u001b[0m\u001b[1;33m.\u001b[0m\u001b[0mremove\u001b[0m\u001b[1;33m(\u001b[0m\u001b[0mdest\u001b[0m\u001b[1;33m)\u001b[0m\u001b[1;33m\u001b[0m\u001b[1;33m\u001b[0m\u001b[0m\n\u001b[0m\u001b[0;32m     39\u001b[0m         \u001b[0mself\u001b[0m\u001b[1;33m.\u001b[0m\u001b[0medges\u001b[0m\u001b[1;33m[\u001b[0m\u001b[0msrc\u001b[0m\u001b[1;33m]\u001b[0m\u001b[1;33m=\u001b[0m\u001b[0ml1\u001b[0m\u001b[1;33m\u001b[0m\u001b[1;33m\u001b[0m\u001b[0m\n\u001b[0;32m     40\u001b[0m         \u001b[0ml2\u001b[0m\u001b[1;33m=\u001b[0m\u001b[0mself\u001b[0m\u001b[1;33m.\u001b[0m\u001b[0medges\u001b[0m\u001b[1;33m[\u001b[0m\u001b[0mdest\u001b[0m\u001b[1;33m]\u001b[0m\u001b[1;33m\u001b[0m\u001b[1;33m\u001b[0m\u001b[0m\n",
      "\u001b[1;31mValueError\u001b[0m: list.remove(x): x not in list"
     ]
    }
   ],
   "source": [
    "krushakal(g)"
   ]
  },
  {
   "cell_type": "code",
   "execution_count": 18,
   "metadata": {
    "ExecuteTime": {
     "end_time": "2020-11-21T04:50:22.616284Z",
     "start_time": "2020-11-21T04:50:22.603294Z"
    }
   },
   "outputs": [],
   "source": [
    "def less_edge(d):\n",
    "    key=min(d, key=lambda k: d[k]) \n",
    "    return (key,d[key])\n",
    "def prims(g,start,l2=set(),Track={}):\n",
    "    l2.add(start)\n",
    "    if(l2==set(g.totalNode())):\n",
    "        return None\n",
    "    else:\n",
    "        for node in g.childrenof(g.getNode(start)) :\n",
    "            if node.get_name() not in l2:\n",
    "                m=g.get_weight(start,node.get_name())\n",
    "                Track[(start,node.get_name())]=m\n",
    "        minie=(less_edge(Track))\n",
    "        \n",
    "        print(minie)\n",
    "        Track.pop(minie[0])\n",
    "        return prims(g,minie[0][1],l2,Track)\n",
    "        \n",
    "    \n",
    "    \n",
    "    "
   ]
  },
  {
   "cell_type": "code",
   "execution_count": 19,
   "metadata": {
    "ExecuteTime": {
     "end_time": "2020-11-21T04:50:23.372094Z",
     "start_time": "2020-11-21T04:50:23.357102Z"
    }
   },
   "outputs": [
    {
     "ename": "TypeError",
     "evalue": "prims() missing 1 required positional argument: 'start'",
     "output_type": "error",
     "traceback": [
      "\u001b[1;31m---------------------------------------------------------------------------\u001b[0m",
      "\u001b[1;31mTypeError\u001b[0m                                 Traceback (most recent call last)",
      "\u001b[1;32m<ipython-input-19-b038f1e1428d>\u001b[0m in \u001b[0;36m<module>\u001b[1;34m\u001b[0m\n\u001b[1;32m----> 1\u001b[1;33m \u001b[0mprims\u001b[0m\u001b[1;33m(\u001b[0m\u001b[0mg\u001b[0m\u001b[1;33m)\u001b[0m\u001b[1;33m\u001b[0m\u001b[1;33m\u001b[0m\u001b[0m\n\u001b[0m",
      "\u001b[1;31mTypeError\u001b[0m: prims() missing 1 required positional argument: 'start'"
     ]
    }
   ],
   "source": [
    "prims(g,'')"
   ]
  },
  {
   "cell_type": "code",
   "execution_count": null,
   "metadata": {
    "ExecuteTime": {
     "end_time": "2020-11-21T04:49:01.684802Z",
     "start_time": "2020-11-21T04:48:59.398Z"
    }
   },
   "outputs": [],
   "source": [
    "def DFS(graph,start,end,path,shortest):\n",
    "    path=path+[start]\n",
    "    if start==end:\n",
    "        return path\n",
    "    for node in graph.childrenof(start):\n",
    "        if node not in path:\n",
    "            if shortest== None or len(path)<len(shortest):\n",
    "                newpath=DFS(graph, node ,end, path, shortest)\n",
    "                if newpath !=None:\n",
    "                    shortest=newpath\n",
    "    return shortest\n",
    "        "
   ]
  },
  {
   "cell_type": "code",
   "execution_count": null,
   "metadata": {},
   "outputs": [],
   "source": []
  },
  {
   "cell_type": "code",
   "execution_count": null,
   "metadata": {
    "ExecuteTime": {
     "end_time": "2020-11-21T04:49:01.687801Z",
     "start_time": "2020-11-21T04:48:59.404Z"
    }
   },
   "outputs": [],
   "source": [
    "def shortestpath(graph,start,end):\n",
    "    \n",
    "    return  DFS(graph,start,end,[],None)"
   ]
  },
  {
   "cell_type": "code",
   "execution_count": null,
   "metadata": {
    "ExecuteTime": {
     "end_time": "2020-11-21T04:49:01.690798Z",
     "start_time": "2020-11-21T04:48:59.409Z"
    }
   },
   "outputs": [],
   "source": [
    "def testSp(source,destination):\n",
    "    g=Buildgraph(Graph)\n",
    "    sp=shortestpath(g,g.getNode(source),g.getNode(destination))\n",
    "    if sp!=None:\n",
    "        print(\"Shortest Path from\",source,\"to\",destination)\n",
    "        for i in sp:\n",
    "            print(i.get_name(),end=\" \")\n",
    "    \n",
    "\n",
    "    "
   ]
  },
  {
   "cell_type": "code",
   "execution_count": null,
   "metadata": {
    "ExecuteTime": {
     "end_time": "2020-11-21T04:49:01.693798Z",
     "start_time": "2020-11-21T04:48:59.412Z"
    }
   },
   "outputs": [],
   "source": [
    "testSp('F','E')"
   ]
  },
  {
   "cell_type": "code",
   "execution_count": null,
   "metadata": {},
   "outputs": [],
   "source": []
  },
  {
   "cell_type": "code",
   "execution_count": null,
   "metadata": {
    "ExecuteTime": {
     "end_time": "2020-11-21T04:49:01.696797Z",
     "start_time": "2020-11-21T04:48:59.419Z"
    },
    "scrolled": true
   },
   "outputs": [],
   "source": [
    "def BFS(graph, start, end, toPrint = False):\n",
    "    \n",
    "    initPath = [start]\n",
    "    pathQueue = [initPath]\n",
    "    while len(pathQueue) != 0:\n",
    "        #Get and remove oldest element in pathQueue\n",
    "        tmpPath = pathQueue.pop(0)\n",
    "        if toPrint:\n",
    "            print('Current BFS path:', printPath(tmpPath))\n",
    "        lastNode = tmpPath[-1]\n",
    "        if lastNode == end:\n",
    "            return tmpPath\n",
    "        for nextNode in graph.childrenOf(lastNode):\n",
    "            if nextNode not in tmpPath:\n",
    "                newPath = tmpPath + [nextNode]\n",
    "                pathQueue.append(newPath)\n",
    "    return None\n",
    "\n",
    "def shortestPath(graph, start, end, toPrint = False):\n",
    "    \n",
    "    return BFS(graph, start, end, toPrint)\n",
    "\n",
    "def testSp1(source,destination):\n",
    "    g=Buildgraph(Graph)\n",
    "    sp=shortestpath(g,g.getNode(source),g.getNode(destination))\n",
    "    if sp!=None:\n",
    "        print(\"Shortest Path from\",source,\"to\",destination)\n",
    "        for i in sp:\n",
    "            print(i.get_name(),end=\" \")\n",
    "\n",
    "    \n",
    "print(testSp1('F', 'E'))"
   ]
  },
  {
   "cell_type": "code",
   "execution_count": null,
   "metadata": {},
   "outputs": [],
   "source": []
  }
 ],
 "metadata": {
  "kernelspec": {
   "display_name": "Python 3",
   "language": "python",
   "name": "python3"
  },
  "language_info": {
   "codemirror_mode": {
    "name": "ipython",
    "version": 3
   },
   "file_extension": ".py",
   "mimetype": "text/x-python",
   "name": "python",
   "nbconvert_exporter": "python",
   "pygments_lexer": "ipython3",
   "version": "3.7.6"
  },
  "toc": {
   "base_numbering": 1,
   "nav_menu": {},
   "number_sections": true,
   "sideBar": true,
   "skip_h1_title": false,
   "title_cell": "Table of Contents",
   "title_sidebar": "Contents",
   "toc_cell": false,
   "toc_position": {},
   "toc_section_display": true,
   "toc_window_display": false
  }
 },
 "nbformat": 4,
 "nbformat_minor": 4
}
