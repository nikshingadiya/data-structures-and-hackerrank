{
 "cells": [
  {
   "cell_type": "code",
   "execution_count": 2,
   "metadata": {
    "ExecuteTime": {
     "end_time": "2021-01-17T12:12:05.420355Z",
     "start_time": "2021-01-17T12:12:05.372705Z"
    }
   },
   "outputs": [
    {
     "name": "stdout",
     "output_type": "stream",
     "text": [
      "i  1  j  2  k  1 -->   m 1 1  + m 2 2  + p 0 p 1 p 2  =  0 + 0 + 5000  | total  5000\n",
      "loop k end\n",
      "i  2  j  3  k  2 -->   m 2 2  + m 3 3  + p 1 p 2 p 3  =  0 + 0 + 25000  | total  25000\n",
      "loop k end\n",
      "i  3  j  4  k  3 -->   m 3 3  + m 4 4  + p 2 p 3 p 4  =  0 + 0 + 250  | total  250\n",
      "loop k end\n",
      "i  1  j  3  k  1 -->   m 1 1  + m 2 3  + p 0 p 1 p 3  =  0 + 25000 + 50000  | total  75000\n",
      "i  1  j  3  k  2 -->   m 1 2  + m 3 3  + p 0 p 2 p 3  =  5000 + 0 + 2500  | total  7500\n",
      "loop k end\n",
      "i  2  j  4  k  2 -->   m 2 2  + m 3 4  + p 1 p 2 p 4  =  0 + 250 + 500  | total  750\n",
      "i  2  j  4  k  3 -->   m 2 3  + m 4 4  + p 1 p 3 p 4  =  25000 + 0 + 5000  | total  30000\n",
      "loop k end\n",
      "i  1  j  4  k  1 -->   m 1 1  + m 2 4  + p 0 p 1 p 4  =  0 + 750 + 1000  | total  1750\n",
      "i  1  j  4  k  2 -->   m 1 2  + m 3 4  + p 0 p 2 p 4  =  5000 + 250 + 50  | total  5300\n",
      "i  1  j  4  k  3 -->   m 1 3  + m 4 4  + p 0 p 3 p 4  =  7500 + 0 + 500  | total  8000\n",
      "loop k end\n",
      "[[0, 0, 0, 0, 0], [0, 0, 5000, 7500, 1750], [0, 0, 0, 25000, 750], [0, 0, 0, 0, 250], [0, 0, 0, 0, 0]]\n",
      "Minimum number of multiplications is 1750\n"
     ]
    }
   ],
   "source": [
    "import sys\n",
    "def chain_matrix(p,l):\n",
    "    n=l\n",
    "    m=[[0 for i in range(l)] for j in range(l)]\n",
    "    for x in range(2,l):\n",
    "        for y in range(1,l-x+1):\n",
    "            i=y\n",
    "            j=x+y-1\n",
    "            m[i][j]=sys.maxsize\n",
    "            for k in range(i, j):                 \n",
    "                q = m[i][k] + m[k + 1][j] + p[i-1]*p[k]*p[j] \n",
    "                print(\"i \",i,\" j \",j,\" k \",k,\"-->  \", \"m\",i,k,\" + m\",k+1,j,\" + p\",i-1,\"p\",k,\"p\",j,\" = \",m[i][k] ,\"+\",\n",
    "                      m[k + 1][j] ,\"+\", p[i-1]*p[k]*p[j],\" | total \",q)\n",
    "                if q < m[i][j]: \n",
    "                    m[i][j] = q\n",
    "            print(\"loop k end\") \n",
    "    print(m)\n",
    "    return m[1][n-1] \n",
    "\n",
    "# arr = [1,2,3,4,5] \n",
    "arr=[10,100,5,50,1]\n",
    "size = len(arr)  \n",
    "print(\"Minimum number of multiplications is \" +str(chain_matrix(arr, size))) \n"
   ]
  },
  {
   "cell_type": "code",
   "execution_count": null,
   "metadata": {},
   "outputs": [],
   "source": []
  }
 ],
 "metadata": {
  "kernelspec": {
   "display_name": "Python 3",
   "language": "python",
   "name": "python3"
  },
  "language_info": {
   "codemirror_mode": {
    "name": "ipython",
    "version": 3
   },
   "file_extension": ".py",
   "mimetype": "text/x-python",
   "name": "python",
   "nbconvert_exporter": "python",
   "pygments_lexer": "ipython3",
   "version": "3.7.9"
  },
  "latex_envs": {
   "LaTeX_envs_menu_present": true,
   "autoclose": false,
   "autocomplete": true,
   "bibliofile": "biblio.bib",
   "cite_by": "apalike",
   "current_citInitial": 1,
   "eqLabelWithNumbers": true,
   "eqNumInitial": 1,
   "hotkeys": {
    "equation": "Ctrl-E",
    "itemize": "Ctrl-I"
   },
   "labels_anchors": false,
   "latex_user_defs": false,
   "report_style_numbering": false,
   "user_envs_cfg": false
  },
  "toc": {
   "base_numbering": 1,
   "nav_menu": {},
   "number_sections": true,
   "sideBar": true,
   "skip_h1_title": false,
   "title_cell": "Table of Contents",
   "title_sidebar": "Contents",
   "toc_cell": false,
   "toc_position": {},
   "toc_section_display": true,
   "toc_window_display": false
  }
 },
 "nbformat": 4,
 "nbformat_minor": 4
}
