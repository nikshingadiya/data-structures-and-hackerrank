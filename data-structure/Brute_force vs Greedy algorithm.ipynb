{
 "cells": [
  {
   "cell_type": "code",
   "execution_count": 1,
   "metadata": {
    "ExecuteTime": {
     "end_time": "2020-05-05T08:33:55.931905Z",
     "start_time": "2020-05-05T08:33:55.910448Z"
    }
   },
   "outputs": [
    {
     "name": "stdout",
     "output_type": "stream",
     "text": [
      "6\n",
      "9\n"
     ]
    }
   ],
   "source": [
    "x=3\n",
    "def fun():\n",
    "    global x\n",
    "    x=x+3\n",
    "    return x\n",
    "print(fun())\n",
    "print(fun())"
   ]
  },
  {
   "cell_type": "code",
   "execution_count": 3,
   "metadata": {
    "ExecuteTime": {
     "end_time": "2020-05-05T08:43:36.665264Z",
     "start_time": "2020-05-05T08:43:36.646800Z"
    }
   },
   "outputs": [],
   "source": [
    "def partitions(set_):\n",
    "    if not set_:\n",
    "        yield []\n",
    "        return\n",
    "    for i in range(2**len(set_)//2):\n",
    "        parts = [set(), set()]\n",
    "        for item in set_:\n",
    "            parts[i&1].add(item)\n",
    "            i >>= 1\n",
    "        for b in partitions(parts[1]):\n",
    "            yield [parts[0]]+b\n",
    "\n",
    "\n",
    "# This is a helper function that will fetch all of the available \n",
    "# partitions for you to use for your brute force algorithm.\n",
    "def get_partitions(set_):\n",
    "    for partition in partitions(set_):\n",
    "        yield [list(elt) for elt in partition]"
   ]
  },
  {
   "cell_type": "code",
   "execution_count": 4,
   "metadata": {
    "ExecuteTime": {
     "end_time": "2020-05-05T08:43:41.807818Z",
     "start_time": "2020-05-05T08:43:39.775599Z"
    }
   },
   "outputs": [
    {
     "name": "stdout",
     "output_type": "stream",
     "text": [
      "[['Florence', 'Lola', 'Oreo'], ['Milkshake', 'Millie', 'Maggie'], ['Moo Moo', 'Herman'], ['Betsy'], ['Henrietta']]\n"
     ]
    }
   ],
   "source": [
    "cows={'Henrietta': 9, 'Betsy': 9, 'Herman': 7, 'Oreo': 6, 'Millie': 5, 'Moo Moo': 3, 'Maggie': 3, 'Milkshake': 2, 'Lola': 2, 'Florence': 2}\n",
    "limit=10\n",
    "def brute_force_cow_transport(cows={},limit=10):\n",
    "    list_of_lists=[]\n",
    "    shortest_list=[]  \n",
    "    l7=[]\n",
    "    l7.clear()\n",
    "    \"\"\"\n",
    "    Finds the allocation of cows that minimizes the number of spaceship trips\n",
    "    via brute force.  The brute force algorithm should follow the following method:\n",
    "\n",
    "    1. Enumerate all possible ways that the cows can be divided into separate trips\n",
    "    2. Select the allocation that minimizes the number of trips without making any trip\n",
    "        that does not obey the weight limitation\n",
    "            \n",
    "    Does not mutate the given dictionary of cows.\n",
    "\n",
    "    Parameters:\n",
    "    cows - a dictionary of name (string), weight (int) pairs\n",
    "    limit - weight limit of the spaceship (an int)\n",
    "    \n",
    "    Returns:\n",
    "    A list of lists, with each inner list containing the names of cows\n",
    "    transported on a particular trip and the overall list containing all the\n",
    "    trips\n",
    "    \"\"\"\n",
    "    # TODO: Your code here\n",
    "    def fun1(l3,cows,limit):\n",
    "         total=0\n",
    "         for i in l3:\n",
    "             total=total+cows[i]\n",
    "         if(total<=limit):\n",
    "             return 1\n",
    "         else:\n",
    "             return 0\n",
    "    def fun2(l3,cows,limit):\n",
    "         for i in range(len(l3)):\n",
    "             if(fun1(l3[i],cows,limit)==0):\n",
    "                 return 0\n",
    "             else:\n",
    "                 if(i==(len(l3)-1)):\n",
    "                     return 1\n",
    "                 else:\n",
    "                     continue\n",
    "    def fun3(l3,cows,limit):\n",
    "       \n",
    "         if(fun2(l3,cows,limit)==0):\n",
    "             pass\n",
    "         else:  \n",
    "            list_of_lists.append(l3)\n",
    "            shortest_list = min(list_of_lists, key=len)\n",
    "            return shortest_list\n",
    "    for i in (get_partitions(cows)):\n",
    "           l7=fun3(i,cows,limit)\n",
    "    return l7\n",
    "    \n",
    "\n",
    "    \n",
    "print(brute_force_cow_transport(cows, limit))"
   ]
  },
  {
   "cell_type": "code",
   "execution_count": 5,
   "metadata": {
    "ExecuteTime": {
     "end_time": "2020-05-05T08:44:29.885075Z",
     "start_time": "2020-05-05T08:44:29.846642Z"
    }
   },
   "outputs": [],
   "source": [
    "def greedy_cow_transport(m,limit):\n",
    "    \"\"\"\n",
    "    Uses a greedy heuristic to determine an allocation of cows that attempts to\n",
    "    minimize the number of spaceship trips needed to transport all the cows. The\n",
    "    returned allocation of cows may or may not be optimal.\n",
    "    The greedy heuristic should follow the following method:\n",
    "\n",
    "    1. As long as the current trip can fit another cow, add the largest cow that will fit\n",
    "        to the trip\n",
    "    2. Once the trip is full, begin a new trip to transport the remaining cows\n",
    "\n",
    "    Does not mutate the given dictionary of cows.\n",
    "\n",
    "    Parameters:\n",
    "    cows - a dictionary of name (string), weight (int) pairs\n",
    "    limit - weight limit of the spaceship (an int)\n",
    "    \n",
    "    Returns:\n",
    "    A list of lists, with each inner list containing the names of cows\n",
    "    transported on a particular trip and the overall list containing all the\n",
    "    trips\n",
    "    \"\"\"\n",
    "\n",
    "    # TODO: Your code here\n",
    "    l1=list(m.keys())\n",
    "    l2=list(m.values())\n",
    "    l1,l2=zip(*sorted(zip(l2,l1),reverse=True))\n",
    "    dictionary= dict(zip(l2, l1))\n",
    "    l6=[]\n",
    "    print(dictionary)\n",
    "    def fun(gio,l5,limit):    \n",
    "        l4=[]\n",
    "        l7=[]\n",
    "        l4.clear()\n",
    "        total=0\n",
    "        if((not bool(gio))):\n",
    "            return l5  \n",
    "        else:\n",
    "            for key in gio.keys():\n",
    "                if(gio[key]>limit):\n",
    "                    l7.append(key)\n",
    "                else:\n",
    "                 if(gio[key]+total<=limit):\n",
    "                    total=total+gio[key]\n",
    "                    l4.append(key)\n",
    "                    \n",
    "        l5.append(l4)\n",
    "        for key in l4:\n",
    "              gio.pop(key)\n",
    "        for  i in l7:\n",
    "              gio.pop(i)\n",
    "        return fun(gio,l5,limit)\n",
    "    return fun(dictionary,l6,limit)\n",
    "    \n",
    "    \n",
    "    \n",
    "    \n"
   ]
  },
  {
   "cell_type": "code",
   "execution_count": null,
   "metadata": {},
   "outputs": [],
   "source": []
  }
 ],
 "metadata": {
  "kernelspec": {
   "display_name": "Python 3",
   "language": "python",
   "name": "python3"
  },
  "language_info": {
   "codemirror_mode": {
    "name": "ipython",
    "version": 3
   },
   "file_extension": ".py",
   "mimetype": "text/x-python",
   "name": "python",
   "nbconvert_exporter": "python",
   "pygments_lexer": "ipython3",
   "version": "3.7.6"
  },
  "toc": {
   "base_numbering": 1,
   "nav_menu": {},
   "number_sections": true,
   "sideBar": true,
   "skip_h1_title": false,
   "title_cell": "Table of Contents",
   "title_sidebar": "Contents",
   "toc_cell": false,
   "toc_position": {},
   "toc_section_display": true,
   "toc_window_display": false
  }
 },
 "nbformat": 4,
 "nbformat_minor": 2
}
