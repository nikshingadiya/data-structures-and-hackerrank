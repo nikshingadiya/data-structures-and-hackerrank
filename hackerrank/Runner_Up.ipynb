{
 "cells": [
  {
   "cell_type": "code",
   "execution_count": 80,
   "metadata": {
    "ExecuteTime": {
     "end_time": "2020-06-03T19:57:22.023984Z",
     "start_time": "2020-06-03T19:57:10.854273Z"
    },
    "scrolled": true
   },
   "outputs": [
    {
     "name": "stdout",
     "output_type": "stream",
     "text": [
      "10\n",
      "6 6 6 6 6 6 5\n"
     ]
    }
   ],
   "source": [
    "n = int(input())\n",
    "arr = map(int, input().split())\n"
   ]
  },
  {
   "cell_type": "code",
   "execution_count": 81,
   "metadata": {
    "ExecuteTime": {
     "end_time": "2020-06-03T19:57:22.777756Z",
     "start_time": "2020-06-03T19:57:22.764215Z"
    }
   },
   "outputs": [],
   "source": [
    "l1=list(arr)"
   ]
  },
  {
   "cell_type": "code",
   "execution_count": 85,
   "metadata": {
    "ExecuteTime": {
     "end_time": "2020-06-03T19:58:02.010023Z",
     "start_time": "2020-06-03T19:58:01.994411Z"
    }
   },
   "outputs": [
    {
     "data": {
      "text/plain": [
       "[6, 5]"
      ]
     },
     "execution_count": 85,
     "metadata": {},
     "output_type": "execute_result"
    }
   ],
   "source": [
    "dictOfWords =dict.fromkeys(l1 , 1)\n",
    "l1=list(dictOfWords.keys())\n",
    "l1"
   ]
  },
  {
   "cell_type": "code",
   "execution_count": 62,
   "metadata": {
    "ExecuteTime": {
     "end_time": "2020-06-03T19:42:21.498913Z",
     "start_time": "2020-06-03T19:42:21.483209Z"
    }
   },
   "outputs": [],
   "source": [
    "def bio(l1):\n",
    "    a=l1[0]\n",
    "    for i in range(len(l1)):\n",
    "        if(a<l1[i]):\n",
    "            a=l1[i]\n",
    "    return a"
   ]
  },
  {
   "cell_type": "code",
   "execution_count": 63,
   "metadata": {
    "ExecuteTime": {
     "end_time": "2020-06-03T19:42:22.005692Z",
     "start_time": "2020-06-03T19:42:21.993300Z"
    }
   },
   "outputs": [],
   "source": [
    "def fx(l1,b):\n",
    "    for i in range(b):\n",
    "        c=bio(l1)\n",
    "        l1.remove(c)\n",
    "        print(l1)\n",
    "        for i in l1:\n",
    "                if(i==c):\n",
    "                    l1.remove(i)\n",
    "        print(l1)\n",
    "    return c\n"
   ]
  },
  {
   "cell_type": "code",
   "execution_count": 64,
   "metadata": {
    "ExecuteTime": {
     "end_time": "2020-06-03T19:42:23.770849Z",
     "start_time": "2020-06-03T19:42:23.753225Z"
    }
   },
   "outputs": [
    {
     "name": "stdout",
     "output_type": "stream",
     "text": [
      "[6, 6, 6, 6, 6, 6, 6, 6, 5]\n",
      "[6, 6, 6, 6, 5]\n",
      "[6, 6, 6, 5]\n",
      "[6, 5]\n"
     ]
    },
    {
     "data": {
      "text/plain": [
       "6"
      ]
     },
     "execution_count": 64,
     "metadata": {},
     "output_type": "execute_result"
    }
   ],
   "source": [
    "fx(l1,2)\n"
   ]
  },
  {
   "cell_type": "code",
   "execution_count": 38,
   "metadata": {
    "ExecuteTime": {
     "end_time": "2020-06-03T19:32:50.985383Z",
     "start_time": "2020-06-03T19:32:50.972440Z"
    }
   },
   "outputs": [
    {
     "name": "stdout",
     "output_type": "stream",
     "text": [
      "[6, 5]\n"
     ]
    }
   ],
   "source": [
    "print(l1)"
   ]
  },
  {
   "cell_type": "code",
   "execution_count": 7,
   "metadata": {
    "ExecuteTime": {
     "end_time": "2020-06-03T19:21:08.783192Z",
     "start_time": "2020-06-03T19:21:08.771091Z"
    }
   },
   "outputs": [],
   "source": [
    "n=[1,1,1,2]"
   ]
  },
  {
   "cell_type": "code",
   "execution_count": 12,
   "metadata": {
    "ExecuteTime": {
     "end_time": "2020-06-03T19:21:58.548430Z",
     "start_time": "2020-06-03T19:21:58.536378Z"
    }
   },
   "outputs": [
    {
     "ename": "SyntaxError",
     "evalue": "invalid syntax (<ipython-input-12-c1a33c05ca35>, line 1)",
     "output_type": "error",
     "traceback": [
      "\u001b[1;36m  File \u001b[1;32m\"<ipython-input-12-c1a33c05ca35>\"\u001b[1;36m, line \u001b[1;32m1\u001b[0m\n\u001b[1;33m    n.del(1)\u001b[0m\n\u001b[1;37m        ^\u001b[0m\n\u001b[1;31mSyntaxError\u001b[0m\u001b[1;31m:\u001b[0m invalid syntax\n"
     ]
    }
   ],
   "source": [
    "n.del(1)"
   ]
  },
  {
   "cell_type": "code",
   "execution_count": 9,
   "metadata": {
    "ExecuteTime": {
     "end_time": "2020-06-03T19:21:26.058256Z",
     "start_time": "2020-06-03T19:21:26.045249Z"
    }
   },
   "outputs": [
    {
     "data": {
      "text/plain": [
       "[1, 1, 2]"
      ]
     },
     "execution_count": 9,
     "metadata": {},
     "output_type": "execute_result"
    }
   ],
   "source": [
    "n"
   ]
  },
  {
   "cell_type": "code",
   "execution_count": null,
   "metadata": {},
   "outputs": [],
   "source": []
  }
 ],
 "metadata": {
  "kernelspec": {
   "display_name": "Python 3",
   "language": "python",
   "name": "python3"
  },
  "language_info": {
   "codemirror_mode": {
    "name": "ipython",
    "version": 3
   },
   "file_extension": ".py",
   "mimetype": "text/x-python",
   "name": "python",
   "nbconvert_exporter": "python",
   "pygments_lexer": "ipython3",
   "version": "3.7.6"
  },
  "toc": {
   "base_numbering": 1,
   "nav_menu": {},
   "number_sections": true,
   "sideBar": true,
   "skip_h1_title": false,
   "title_cell": "Table of Contents",
   "title_sidebar": "Contents",
   "toc_cell": false,
   "toc_position": {},
   "toc_section_display": true,
   "toc_window_display": false
  }
 },
 "nbformat": 4,
 "nbformat_minor": 4
}
