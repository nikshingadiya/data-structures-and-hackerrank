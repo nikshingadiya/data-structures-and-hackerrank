{
 "cells": [
  {
   "cell_type": "markdown",
   "metadata": {},
   "source": [
    "\n",
    "<b><h2> method</h2></b>"
   ]
  },
  {
   "cell_type": "code",
   "execution_count": null,
   "metadata": {
    "ExecuteTime": {
     "end_time": "2020-06-04T08:46:56.536882Z",
     "start_time": "2020-06-04T08:46:56.517690Z"
    }
   },
   "outputs": [],
   "source": [
    "students = [['Harry', 37.21], ['Berry', 37.21], ['Tina', 37.2], ['Akriti', 41], ['Harsh', 39],['carry',37.21]] "
   ]
  },
  {
   "cell_type": "code",
   "execution_count": null,
   "metadata": {},
   "outputs": [],
   "source": [
    "name_list = []\n",
    "st_mark = []\n",
    "for _ in range(int(input())):\n",
    "    name = input()\n",
    "    name_list.append(name)\n",
    "    score = float(input())\n",
    "    st_mark.append(score)"
   ]
  },
  {
   "cell_type": "code",
   "execution_count": null,
   "metadata": {},
   "outputs": [],
   "source": [
    "l1,l2=zip(*sorted(zip(st_mark,name_list)))\n",
    "st_mark=list(l1)\n",
    "name_list=list(l2)\n",
    "print(st_mark,name_list)"
   ]
  },
  {
   "cell_type": "code",
   "execution_count": null,
   "metadata": {},
   "outputs": [],
   "source": [
    "min1 = st_mark[0]\n",
    "x = 0\n",
    "final = []\n",
    "for i in range(1, len(st_mark)):\n",
    "    if(st_mark[i] == min1):\n",
    "        if(x == 1):\n",
    "            final.append(name_list[i])\n",
    "    else:\n",
    "        x = x+1\n",
    "        if(x == 1):\n",
    "            final.append(name_list[i])\n",
    "        min1 = st_mark[i]\n",
    "        "
   ]
  },
  {
   "cell_type": "code",
   "execution_count": null,
   "metadata": {
    "ExecuteTime": {
     "end_time": "2020-06-04T09:09:06.545986Z",
     "start_time": "2020-06-04T09:09:06.536425Z"
    }
   },
   "outputs": [],
   "source": [
    "final=sorted(final, key=str.lower)\n",
    "final"
   ]
  },
  {
   "cell_type": "markdown",
   "metadata": {
    "ExecuteTime": {
     "end_time": "2020-06-04T09:50:01.810434Z",
     "start_time": "2020-06-04T09:50:01.794813Z"
    }
   },
   "source": [
    "\n",
    "\n",
    "<b><h2>method</h2></b>"
   ]
  },
  {
   "cell_type": "code",
   "execution_count": null,
   "metadata": {},
   "outputs": [],
   "source": [
    "# <ol>\n",
    "# <li>Fish</li>\n",
    "# <li>Eggs</li>\n",
    "# <li>Cheese</li>\n",
    "# </ol>"
   ]
  },
  {
   "cell_type": "code",
   "execution_count": 101,
   "metadata": {
    "ExecuteTime": {
     "end_time": "2020-06-04T10:47:37.474527Z",
     "start_time": "2020-06-04T10:47:37.464163Z"
    }
   },
   "outputs": [],
   "source": [
    "students = [['Harry', 37.21],[\"heli\",39],['nik',37.2], ['Berry', 37.21], ['Tina', 37.2], ['Akriti', 41], ['Harsh', 39],['carry',37.21]] "
   ]
  },
  {
   "cell_type": "code",
   "execution_count": null,
   "metadata": {
    "ExecuteTime": {
     "end_time": "2020-06-04T10:04:32.048163Z",
     "start_time": "2020-06-04T10:04:32.040428Z"
    }
   },
   "outputs": [],
   "source": []
  },
  {
   "cell_type": "code",
   "execution_count": 102,
   "metadata": {
    "ExecuteTime": {
     "end_time": "2020-06-04T10:47:38.696529Z",
     "start_time": "2020-06-04T10:47:38.676361Z"
    },
    "code_folding": []
   },
   "outputs": [],
   "source": [
    "name_list1 = []\n",
    "st_mark1 = []\n",
    "for i in students:\n",
    "    name_list1.append(i[0])\n",
    "    st_mark1.append(i[1])\n",
    "  "
   ]
  },
  {
   "cell_type": "code",
   "execution_count": 103,
   "metadata": {
    "ExecuteTime": {
     "end_time": "2020-06-04T10:47:39.155476Z",
     "start_time": "2020-06-04T10:47:39.139855Z"
    },
    "scrolled": true
   },
   "outputs": [
    {
     "data": {
      "text/plain": [
       "['Harry', 'heli', 'nik', 'Berry', 'Tina', 'Akriti', 'Harsh', 'carry']"
      ]
     },
     "execution_count": 103,
     "metadata": {},
     "output_type": "execute_result"
    }
   ],
   "source": [
    "name_list1"
   ]
  },
  {
   "cell_type": "code",
   "execution_count": 104,
   "metadata": {
    "ExecuteTime": {
     "end_time": "2020-06-04T10:47:40.418317Z",
     "start_time": "2020-06-04T10:47:40.396329Z"
    }
   },
   "outputs": [
    {
     "data": {
      "text/plain": [
       "[37.21, 39, 37.2, 37.21, 37.2, 41, 39, 37.21]"
      ]
     },
     "execution_count": 104,
     "metadata": {},
     "output_type": "execute_result"
    }
   ],
   "source": [
    "st_mark1"
   ]
  },
  {
   "cell_type": "code",
   "execution_count": 105,
   "metadata": {
    "ExecuteTime": {
     "end_time": "2020-06-04T10:47:41.490691Z",
     "start_time": "2020-06-04T10:47:41.476742Z"
    }
   },
   "outputs": [
    {
     "name": "stdout",
     "output_type": "stream",
     "text": [
      "[37.2, 37.2, 37.21, 37.21, 37.21, 39, 39, 41] ['Tina', 'nik', 'Berry', 'Harry', 'carry', 'Harsh', 'heli', 'Akriti']\n"
     ]
    }
   ],
   "source": [
    "l1,l2=zip(*sorted(zip(st_mark1,name_list1)))\n",
    "st_mark1=list(l1)\n",
    "name_list1=list(l2)\n",
    "print(st_mark1,name_list1)"
   ]
  },
  {
   "cell_type": "code",
   "execution_count": 106,
   "metadata": {
    "ExecuteTime": {
     "end_time": "2020-06-04T10:47:44.911661Z",
     "start_time": "2020-06-04T10:47:44.899924Z"
    }
   },
   "outputs": [],
   "source": [
    "def Lowest_number(st_mark1,name_list1,number):\n",
    "    x=0\n",
    "    for i in range(number):\n",
    "        l1=[]\n",
    "        l1.append(x)\n",
    "        y=x+1\n",
    "        if(y==len(st_mark1)):\n",
    "            break\n",
    "        else:\n",
    "            while(st_mark1[x]==st_mark1[y]):\n",
    "                l1.append(y)\n",
    "                y+=1\n",
    "        x=y\n",
    "    return l1\n",
    "        \n",
    "    "
   ]
  },
  {
   "cell_type": "code",
   "execution_count": 109,
   "metadata": {
    "ExecuteTime": {
     "end_time": "2020-06-04T10:48:03.948919Z",
     "start_time": "2020-06-04T10:48:03.926901Z"
    }
   },
   "outputs": [
    {
     "name": "stdout",
     "output_type": "stream",
     "text": [
      "Harsh\n",
      "heli\n"
     ]
    }
   ],
   "source": [
    "m=Lowest_number(st_mark1,name_list1,3)\n",
    "for i in m:\n",
    "    print(name_list1[i])"
   ]
  },
  {
   "cell_type": "code",
   "execution_count": null,
   "metadata": {},
   "outputs": [],
   "source": []
  },
  {
   "cell_type": "code",
   "execution_count": null,
   "metadata": {},
   "outputs": [],
   "source": []
  }
 ],
 "metadata": {
  "kernelspec": {
   "display_name": "Python 3",
   "language": "python",
   "name": "python3"
  },
  "language_info": {
   "codemirror_mode": {
    "name": "ipython",
    "version": 3
   },
   "file_extension": ".py",
   "mimetype": "text/x-python",
   "name": "python",
   "nbconvert_exporter": "python",
   "pygments_lexer": "ipython3",
   "version": "3.7.6"
  },
  "toc": {
   "base_numbering": 1,
   "nav_menu": {},
   "number_sections": true,
   "sideBar": true,
   "skip_h1_title": false,
   "title_cell": "Table of Contents",
   "title_sidebar": "Contents",
   "toc_cell": false,
   "toc_position": {},
   "toc_section_display": true,
   "toc_window_display": false
  }
 },
 "nbformat": 4,
 "nbformat_minor": 4
}
