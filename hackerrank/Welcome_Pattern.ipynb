{
 "cells": [
  {
   "cell_type": "code",
   "execution_count": 16,
   "metadata": {
    "ExecuteTime": {
     "end_time": "2020-06-13T17:10:48.423199Z",
     "start_time": "2020-06-13T17:10:42.849541Z"
    }
   },
   "outputs": [
    {
     "name": "stdout",
     "output_type": "stream",
     "text": [
      "21 63\n"
     ]
    }
   ],
   "source": [
    "x,y=list(map(int,input().split(\" \")))"
   ]
  },
  {
   "cell_type": "code",
   "execution_count": 17,
   "metadata": {
    "ExecuteTime": {
     "end_time": "2020-06-13T17:10:49.032606Z",
     "start_time": "2020-06-13T17:10:49.015123Z"
    }
   },
   "outputs": [
    {
     "data": {
      "text/plain": [
       "63"
      ]
     },
     "execution_count": 17,
     "metadata": {},
     "output_type": "execute_result"
    }
   ],
   "source": [
    "y"
   ]
  },
  {
   "cell_type": "code",
   "execution_count": 18,
   "metadata": {
    "ExecuteTime": {
     "end_time": "2020-06-13T17:10:49.498052Z",
     "start_time": "2020-06-13T17:10:49.470693Z"
    }
   },
   "outputs": [
    {
     "name": "stdout",
     "output_type": "stream",
     "text": [
      "------------------------------.|.------------------------------\n",
      "---------------------------.|..|..|.---------------------------\n",
      "------------------------.|..|..|..|..|.------------------------\n",
      "---------------------.|..|..|..|..|..|..|.---------------------\n",
      "------------------.|..|..|..|..|..|..|..|..|.------------------\n",
      "---------------.|..|..|..|..|..|..|..|..|..|..|.---------------\n",
      "------------.|..|..|..|..|..|..|..|..|..|..|..|..|.------------\n",
      "---------.|..|..|..|..|..|..|..|..|..|..|..|..|..|..|.---------\n",
      "------.|..|..|..|..|..|..|..|..|..|..|..|..|..|..|..|..|.------\n",
      "---.|..|..|..|..|..|..|..|..|..|..|..|..|..|..|..|..|..|..|.---\n",
      "----------------------------WELCOME----------------------------\n",
      "---.|..|..|..|..|..|..|..|..|..|..|..|..|..|..|..|..|..|..|.---\n",
      "------.|..|..|..|..|..|..|..|..|..|..|..|..|..|..|..|..|.------\n",
      "---------.|..|..|..|..|..|..|..|..|..|..|..|..|..|..|.---------\n",
      "------------.|..|..|..|..|..|..|..|..|..|..|..|..|.------------\n",
      "---------------.|..|..|..|..|..|..|..|..|..|..|.---------------\n",
      "------------------.|..|..|..|..|..|..|..|..|.------------------\n",
      "---------------------.|..|..|..|..|..|..|.---------------------\n",
      "------------------------.|..|..|..|..|.------------------------\n",
      "---------------------------.|..|..|.---------------------------\n",
      "------------------------------.|.------------------------------\n"
     ]
    }
   ],
   "source": [
    "s=\"WELCOME\"\n",
    "for i in range(1,(x+1)//2):\n",
    "    a=(2*i-1)\n",
    "    print((\".|.\"*a).center(y, \"-\"))\n",
    "    a=0\n",
    "print(s.center(y,\"-\"))\n",
    "\n",
    "for j in range(x-2,0,-2):\n",
    "    print((\".|.\"*j).center(y, \"-\"))\n",
    "    "
   ]
  },
  {
   "cell_type": "code",
   "execution_count": null,
   "metadata": {
    "ExecuteTime": {
     "end_time": "2020-06-13T16:38:24.057075Z",
     "start_time": "2020-06-13T16:38:24.035482Z"
    }
   },
   "outputs": [],
   "source": []
  },
  {
   "cell_type": "code",
   "execution_count": null,
   "metadata": {},
   "outputs": [],
   "source": []
  }
 ],
 "metadata": {
  "kernelspec": {
   "display_name": "Python 3",
   "language": "python",
   "name": "python3"
  },
  "language_info": {
   "codemirror_mode": {
    "name": "ipython",
    "version": 3
   },
   "file_extension": ".py",
   "mimetype": "text/x-python",
   "name": "python",
   "nbconvert_exporter": "python",
   "pygments_lexer": "ipython3",
   "version": "3.7.6"
  },
  "toc": {
   "base_numbering": 1,
   "nav_menu": {},
   "number_sections": true,
   "sideBar": true,
   "skip_h1_title": false,
   "title_cell": "Table of Contents",
   "title_sidebar": "Contents",
   "toc_cell": false,
   "toc_position": {},
   "toc_section_display": true,
   "toc_window_display": false
  }
 },
 "nbformat": 4,
 "nbformat_minor": 4
}
