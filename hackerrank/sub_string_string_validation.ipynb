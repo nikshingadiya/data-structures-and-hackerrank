{
 "cells": [
  {
   "cell_type": "markdown",
   "metadata": {},
   "source": [
    "<b>#method :1<b>"
   ]
  },
  {
   "cell_type": "code",
   "execution_count": null,
   "metadata": {
    "ExecuteTime": {
     "end_time": "2020-06-11T07:31:01.637249Z",
     "start_time": "2020-06-11T07:31:01.621718Z"
    }
   },
   "outputs": [],
   "source": [
    "l1 = \"ABCDCDC\"\n",
    "l2 = 'CDC'\n",
    "sum = 0\n",
    "for i in range(len(l1)):\n",
    "    x = l1[i:i+len(l2)]\n",
    "    print(x)\n",
    "    if(x == l2):\n",
    "        sum = sum+1\n",
    "sum"
   ]
  },
  {
   "cell_type": "markdown",
   "metadata": {
    "ExecuteTime": {
     "end_time": "2020-06-11T07:36:33.677946Z",
     "start_time": "2020-06-11T07:36:33.664025Z"
    }
   },
   "source": [
    "<b> #method :2 </b>"
   ]
  },
  {
   "cell_type": "code",
   "execution_count": null,
   "metadata": {
    "ExecuteTime": {
     "end_time": "2020-06-11T07:31:24.124397Z",
     "start_time": "2020-06-11T07:31:24.101712Z"
    }
   },
   "outputs": [],
   "source": [
    "sum = 0\n",
    "for i in range(len(l1)):\n",
    "    x = ''\n",
    "    for j in range(i, i+len(l2)):\n",
    "        if(i+len(l2) > len(l1)):\n",
    "            break\n",
    "        x = x+l1[j]\n",
    "    if(x == l2):\n",
    "        sum = sum+1\n",
    "sum"
   ]
  },
  {
   "cell_type": "code",
   "execution_count": 6,
   "metadata": {
    "ExecuteTime": {
     "end_time": "2020-06-11T07:39:30.403425Z",
     "start_time": "2020-06-11T07:39:30.396599Z"
    }
   },
   "outputs": [
    {
     "name": "stdout",
     "output_type": "stream",
     "text": [
      "False\n"
     ]
    }
   ],
   "source": [
    "print(\"abcA\".islower())"
   ]
  },
  {
   "cell_type": "code",
   "execution_count": 52,
   "metadata": {
    "ExecuteTime": {
     "end_time": "2020-06-11T08:18:53.577904Z",
     "start_time": "2020-06-11T08:18:53.568908Z"
    }
   },
   "outputs": [
    {
     "name": "stdout",
     "output_type": "stream",
     "text": [
      "True\n"
     ]
    }
   ],
   "source": [
    "s=input()"
   ]
  },
  {
   "cell_type": "code",
   "execution_count": 30,
   "metadata": {
    "ExecuteTime": {
     "end_time": "2020-06-11T08:03:57.622097Z",
     "start_time": "2020-06-11T08:03:57.615554Z"
    }
   },
   "outputs": [],
   "source": [
    "print(any(char.isalnum() for char in S))\n",
    "print(any(char.isalpha() for char in S))\n",
    "print(any(char.isdigit() for char in S))\n",
    "print(any(char.islower() for char in S))\n",
    "print(any(char.isupper() for char in S))"
   ]
  },
  {
   "cell_type": "code",
   "execution_count": 46,
   "metadata": {
    "ExecuteTime": {
     "end_time": "2020-06-11T08:09:44.305234Z",
     "start_time": "2020-06-11T08:09:44.292352Z"
    }
   },
   "outputs": [
    {
     "data": {
      "text/plain": [
       "False"
      ]
     },
     "execution_count": 46,
     "metadata": {},
     "output_type": "execute_result"
    }
   ],
   "source": []
  },
  {
   "cell_type": "code",
   "execution_count": null,
   "metadata": {},
   "outputs": [],
   "source": []
  }
 ],
 "metadata": {
  "kernelspec": {
   "display_name": "Python 3",
   "language": "python",
   "name": "python3"
  },
  "language_info": {
   "codemirror_mode": {
    "name": "ipython",
    "version": 3
   },
   "file_extension": ".py",
   "mimetype": "text/x-python",
   "name": "python",
   "nbconvert_exporter": "python",
   "pygments_lexer": "ipython3",
   "version": "3.7.6"
  },
  "toc": {
   "base_numbering": 1,
   "nav_menu": {},
   "number_sections": true,
   "sideBar": true,
   "skip_h1_title": false,
   "title_cell": "Table of Contents",
   "title_sidebar": "Contents",
   "toc_cell": false,
   "toc_position": {},
   "toc_section_display": true,
   "toc_window_display": false
  }
 },
 "nbformat": 4,
 "nbformat_minor": 4
}
