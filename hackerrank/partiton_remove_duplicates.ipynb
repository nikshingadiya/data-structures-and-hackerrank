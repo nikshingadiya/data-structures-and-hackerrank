{
 "cells": [
  {
   "cell_type": "markdown",
   "metadata": {},
   "source": [
    "<b>#method :1</b>"
   ]
  },
  {
   "cell_type": "code",
   "execution_count": null,
   "metadata": {
    "ExecuteTime": {
     "end_time": "2020-06-16T12:54:24.161720Z",
     "start_time": "2020-06-16T12:54:24.137810Z"
    }
   },
   "outputs": [],
   "source": [
    "s = \"AABCAAADA\"\n",
    "k = 3\n",
    "n = len(s)//k\n",
    "i = 0\n",
    "l1 = []\n",
    "while(i != len(s)):\n",
    "    l1 = list(set(s[i:i+n]))\n",
    "    l1.sort()\n",
    "    print(''.join((l1)))\n",
    "    i = i+n"
   ]
  },
  {
   "cell_type": "code",
   "execution_count": 4,
   "metadata": {
    "ExecuteTime": {
     "end_time": "2020-06-16T13:04:20.856065Z",
     "start_time": "2020-06-16T13:04:20.837684Z"
    }
   },
   "outputs": [
    {
     "name": "stdout",
     "output_type": "stream",
     "text": [
      "AB\n",
      "CA\n",
      "AD\n"
     ]
    }
   ],
   "source": [
    "s = \"AABCAAADA\"\n",
    "k = 3\n",
    "n = len(s)//k\n",
    "i = 0\n",
    "l = ''\n",
    "my_dict = {}\n",
    "while(i != len(s)):\n",
    "    l = s[i:i+n]\n",
    "    f=''\n",
    "    for j in l:\n",
    "        if(j not in f):\n",
    "            f=f+j\n",
    "    print(f)  \n",
    "    i = i+n"
   ]
  },
  {
   "cell_type": "code",
   "execution_count": null,
   "metadata": {
    "ExecuteTime": {
     "end_time": "2020-06-16T12:43:02.785444Z",
     "start_time": "2020-06-16T12:43:02.748749Z"
    }
   },
   "outputs": [],
   "source": []
  },
  {
   "cell_type": "code",
   "execution_count": null,
   "metadata": {
    "ExecuteTime": {
     "end_time": "2020-06-16T12:49:42.943009Z",
     "start_time": "2020-06-16T12:49:42.921431Z"
    }
   },
   "outputs": [],
   "source": []
  },
  {
   "cell_type": "code",
   "execution_count": null,
   "metadata": {
    "ExecuteTime": {
     "end_time": "2020-06-16T12:50:12.616049Z",
     "start_time": "2020-06-16T12:50:12.606780Z"
    }
   },
   "outputs": [],
   "source": []
  },
  {
   "cell_type": "code",
   "execution_count": null,
   "metadata": {
    "ExecuteTime": {
     "end_time": "2020-06-16T12:50:15.331256Z",
     "start_time": "2020-06-16T12:50:15.318081Z"
    }
   },
   "outputs": [],
   "source": [
    "\n"
   ]
  },
  {
   "cell_type": "code",
   "execution_count": null,
   "metadata": {},
   "outputs": [],
   "source": []
  }
 ],
 "metadata": {
  "kernelspec": {
   "display_name": "Python 3",
   "language": "python",
   "name": "python3"
  },
  "language_info": {
   "codemirror_mode": {
    "name": "ipython",
    "version": 3
   },
   "file_extension": ".py",
   "mimetype": "text/x-python",
   "name": "python",
   "nbconvert_exporter": "python",
   "pygments_lexer": "ipython3",
   "version": "3.7.6"
  },
  "toc": {
   "base_numbering": 1,
   "nav_menu": {},
   "number_sections": true,
   "sideBar": true,
   "skip_h1_title": false,
   "title_cell": "Table of Contents",
   "title_sidebar": "Contents",
   "toc_cell": false,
   "toc_position": {},
   "toc_section_display": true,
   "toc_window_display": false
  }
 },
 "nbformat": 4,
 "nbformat_minor": 4
}
