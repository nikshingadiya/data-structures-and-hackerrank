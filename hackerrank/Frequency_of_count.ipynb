{
 "cells": [
  {
   "cell_type": "code",
   "execution_count": 1,
   "metadata": {
    "ExecuteTime": {
     "end_time": "2020-06-05T05:10:35.816053Z",
     "start_time": "2020-06-05T05:10:35.802300Z"
    }
   },
   "outputs": [
    {
     "name": "stdout",
     "output_type": "stream",
     "text": [
      "Original String:\n",
      "GeEks FOR geeKS\n",
      "\n",
      "Converted String:\n",
      "geeks for geeks\n"
     ]
    }
   ],
   "source": [
    "text = 'GeEks FOR geeKS'\n",
    "  \n",
    "print(\"Original String:\") \n",
    "print(text) \n",
    "  \n",
    "# lower() function to convert  \n",
    "# string to lower_case \n",
    "print(\"\\nConverted String:\") \n",
    "print(text.lower()) "
   ]
  },
  {
   "cell_type": "code",
   "execution_count": 3,
   "metadata": {
    "ExecuteTime": {
     "end_time": "2020-06-05T05:10:58.878267Z",
     "start_time": "2020-06-05T05:10:58.865645Z"
    }
   },
   "outputs": [],
   "source": [
    "text=text.lower()"
   ]
  },
  {
   "cell_type": "code",
   "execution_count": 4,
   "metadata": {
    "ExecuteTime": {
     "end_time": "2020-06-05T05:11:03.350208Z",
     "start_time": "2020-06-05T05:11:03.336088Z"
    }
   },
   "outputs": [
    {
     "data": {
      "text/plain": [
       "'geeks for geeks'"
      ]
     },
     "execution_count": 4,
     "metadata": {},
     "output_type": "execute_result"
    }
   ],
   "source": [
    "text"
   ]
  },
  {
   "cell_type": "code",
   "execution_count": null,
   "metadata": {},
   "outputs": [],
   "source": []
  }
 ],
 "metadata": {
  "kernelspec": {
   "display_name": "Python 3",
   "language": "python",
   "name": "python3"
  },
  "language_info": {
   "codemirror_mode": {
    "name": "ipython",
    "version": 3
   },
   "file_extension": ".py",
   "mimetype": "text/x-python",
   "name": "python",
   "nbconvert_exporter": "python",
   "pygments_lexer": "ipython3",
   "version": "3.7.6"
  },
  "toc": {
   "base_numbering": 1,
   "nav_menu": {},
   "number_sections": true,
   "sideBar": true,
   "skip_h1_title": false,
   "title_cell": "Table of Contents",
   "title_sidebar": "Contents",
   "toc_cell": false,
   "toc_position": {},
   "toc_section_display": true,
   "toc_window_display": false
  }
 },
 "nbformat": 4,
 "nbformat_minor": 4
}
