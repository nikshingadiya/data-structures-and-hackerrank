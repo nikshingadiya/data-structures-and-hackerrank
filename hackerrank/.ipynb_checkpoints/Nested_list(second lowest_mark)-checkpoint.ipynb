{
 "cells": [
  {
   "cell_type": "code",
   "execution_count": null,
   "metadata": {
    "ExecuteTime": {
     "end_time": "2020-06-04T07:55:44.323074Z",
     "start_time": "2020-06-04T07:55:44.313729Z"
    }
   },
   "outputs": [],
   "source": [
    "students = [['Harry', 37.21], ['Berry', 37.21], ['Tina', 37.2], ['Akriti', 41], ['Harsh', 39]] "
   ]
  },
  {
   "cell_type": "code",
   "execution_count": null,
   "metadata": {
    "ExecuteTime": {
     "end_time": "2020-06-04T07:55:46.507562Z",
     "start_time": "2020-06-04T07:55:46.497867Z"
    }
   },
   "outputs": [],
   "source": [
    "name_list=[]\n",
    "st_mark=[]\n",
    "for i in (students):\n",
    "    name_list.append(i[0])\n",
    "    st_mark.append(i[1])\n"
   ]
  },
  {
   "cell_type": "code",
   "execution_count": null,
   "metadata": {
    "ExecuteTime": {
     "end_time": "2020-06-04T07:55:48.688395Z",
     "start_time": "2020-06-04T07:55:48.666317Z"
    }
   },
   "outputs": [],
   "source": [
    "print(name_list)\n",
    "print(st_mark)"
   ]
  },
  {
   "cell_type": "code",
   "execution_count": 19,
   "metadata": {
    "ExecuteTime": {
     "end_time": "2020-06-04T08:03:55.814579Z",
     "start_time": "2020-06-04T08:03:55.801755Z"
    }
   },
   "outputs": [],
   "source": [
    "l1,l2=zip(*sorted(zip(st_mark,name_list)))\n",
    "st_mark=list(l1)\n",
    "name_list=list(l2)"
   ]
  },
  {
   "cell_type": "code",
   "execution_count": null,
   "metadata": {
    "ExecuteTime": {
     "end_time": "2020-06-04T07:55:03.448197Z",
     "start_time": "2020-06-04T07:54:32.698365Z"
    }
   },
   "outputs": [],
   "source": [
    "for _ in range(int(input())):\n",
    "        name = input()\n",
    "        score = float(input())"
   ]
  },
  {
   "cell_type": "code",
   "execution_count": null,
   "metadata": {
    "ExecuteTime": {
     "end_time": "2020-06-04T07:55:09.677964Z",
     "start_time": "2020-06-04T07:55:09.664040Z"
    }
   },
   "outputs": [],
   "source": [
    "name"
   ]
  },
  {
   "cell_type": "code",
   "execution_count": null,
   "metadata": {
    "ExecuteTime": {
     "end_time": "2020-06-04T07:55:14.291500Z",
     "start_time": "2020-06-04T07:55:14.267724Z"
    }
   },
   "outputs": [],
   "source": [
    "score"
   ]
  },
  {
   "cell_type": "code",
   "execution_count": null,
   "metadata": {},
   "outputs": [],
   "source": []
  }
 ],
 "metadata": {
  "kernelspec": {
   "display_name": "Python 3",
   "language": "python",
   "name": "python3"
  },
  "language_info": {
   "codemirror_mode": {
    "name": "ipython",
    "version": 3
   },
   "file_extension": ".py",
   "mimetype": "text/x-python",
   "name": "python",
   "nbconvert_exporter": "python",
   "pygments_lexer": "ipython3",
   "version": "3.7.6"
  },
  "toc": {
   "base_numbering": 1,
   "nav_menu": {},
   "number_sections": true,
   "sideBar": true,
   "skip_h1_title": false,
   "title_cell": "Table of Contents",
   "title_sidebar": "Contents",
   "toc_cell": false,
   "toc_position": {},
   "toc_section_display": true,
   "toc_window_display": false
  }
 },
 "nbformat": 4,
 "nbformat_minor": 4
}
