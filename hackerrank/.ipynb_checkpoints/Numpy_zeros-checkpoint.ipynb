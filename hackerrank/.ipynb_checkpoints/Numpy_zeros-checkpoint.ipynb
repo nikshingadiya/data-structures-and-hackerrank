{
 "cells": [
  {
   "cell_type": "code",
   "execution_count": 1,
   "metadata": {
    "ExecuteTime": {
     "end_time": "2020-06-03T05:08:57.942867Z",
     "start_time": "2020-06-03T05:08:55.782826Z"
    }
   },
   "outputs": [],
   "source": [
    "import numpy as np"
   ]
  },
  {
   "cell_type": "code",
   "execution_count": 2,
   "metadata": {
    "ExecuteTime": {
     "end_time": "2020-06-03T05:08:57.962912Z",
     "start_time": "2020-06-03T05:08:57.947875Z"
    }
   },
   "outputs": [
    {
     "name": "stdout",
     "output_type": "stream",
     "text": [
      "[[[0 0 0]\n",
      "  [0 0 0]\n",
      "  [0 0 0]]\n",
      "\n",
      " [[0 0 0]\n",
      "  [0 0 0]\n",
      "  [0 0 0]]\n",
      "\n",
      " [[0 0 0]\n",
      "  [0 0 0]\n",
      "  [0 0 0]]]\n"
     ]
    }
   ],
   "source": [
    "print (np.zeros((3,3,3),dtype=np.int))"
   ]
  },
  {
   "cell_type": "code",
   "execution_count": 3,
   "metadata": {
    "ExecuteTime": {
     "end_time": "2020-06-03T05:09:12.203301Z",
     "start_time": "2020-06-03T05:08:57.969884Z"
    }
   },
   "outputs": [
    {
     "name": "stdout",
     "output_type": "stream",
     "text": [
      "1 2  3\n",
      "1 2 3\n"
     ]
    }
   ],
   "source": [
    "# N=(input().split( ))\n",
    "# x=int(N[0])\n",
    "# y=int(N[1])\n",
    "# z=int(N[2])\n",
    "# print(x,y,z)"
   ]
  },
  {
   "cell_type": "code",
   "execution_count": null,
   "metadata": {
    "ExecuteTime": {
     "end_time": "2020-06-03T04:42:44.715532Z",
     "start_time": "2020-06-03T04:42:44.692000Z"
    }
   },
   "outputs": [],
   "source": []
  },
  {
   "cell_type": "code",
   "execution_count": null,
   "metadata": {
    "ExecuteTime": {
     "start_time": "2020-06-03T05:09:15.629Z"
    }
   },
   "outputs": [],
   "source": [
    "import numpy\n",
    "N=(input().split( ))\n",
    "# x=int(N[0])\n",
    "# y=int(N[1])\n",
    "M=[]\n",
    "for i in range(len(N)):\n",
    "    M.append(int(N[i]))\n",
    "print(M)\n",
    "# print (numpy.zeros(N,dtype=numpy.int))\n",
    "# print (numpy.ones(N,dtype=numpy.int))\n",
    "\n",
    "\n",
    "\n",
    "\n"
   ]
  },
  {
   "cell_type": "markdown",
   "metadata": {},
   "source": [
    "# "
   ]
  }
 ],
 "metadata": {
  "kernelspec": {
   "display_name": "Python 3",
   "language": "python",
   "name": "python3"
  },
  "language_info": {
   "codemirror_mode": {
    "name": "ipython",
    "version": 3
   },
   "file_extension": ".py",
   "mimetype": "text/x-python",
   "name": "python",
   "nbconvert_exporter": "python",
   "pygments_lexer": "ipython3",
   "version": "3.7.6"
  },
  "toc": {
   "base_numbering": 1,
   "nav_menu": {},
   "number_sections": true,
   "sideBar": true,
   "skip_h1_title": false,
   "title_cell": "Table of Contents",
   "title_sidebar": "Contents",
   "toc_cell": false,
   "toc_position": {},
   "toc_section_display": true,
   "toc_window_display": false
  }
 },
 "nbformat": 4,
 "nbformat_minor": 4
}
