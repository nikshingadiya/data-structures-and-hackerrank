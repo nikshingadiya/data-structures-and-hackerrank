{
 "cells": [
  {
   "cell_type": "markdown",
   "metadata": {},
   "source": [
    "<b>#method1:<b>"
   ]
  },
  {
   "cell_type": "code",
   "execution_count": 1,
   "metadata": {
    "ExecuteTime": {
     "end_time": "2020-06-16T09:46:35.517650Z",
     "start_time": "2020-06-16T09:46:35.502024Z"
    }
   },
   "outputs": [],
   "source": [
    "def vowel(vo):\n",
    "    vo=vo.lower()\n",
    "    l1=['a','i','o','u','e']\n",
    "    if i in l1:\n",
    "        return True\n",
    "    else:\n",
    "        return False\n"
   ]
  },
  {
   "cell_type": "code",
   "execution_count": null,
   "metadata": {
    "ExecuteTime": {
     "start_time": "2020-06-16T11:33:42.207Z"
    }
   },
   "outputs": [],
   "source": [
    "s = 'BANANA'\n",
    "my_dictv = {}\n",
    "my_dictc = {}\n",
    "p1_score = 0\n",
    "p2_score = 0\n",
    "p_substring = []"
   ]
  },
  {
   "cell_type": "code",
   "execution_count": 52,
   "metadata": {
    "ExecuteTime": {
     "end_time": "2020-06-16T10:10:01.449050Z",
     "start_time": "2020-06-16T10:10:01.417340Z"
    },
    "scrolled": true
   },
   "outputs": [
    {
     "name": "stdout",
     "output_type": "stream",
     "text": [
      "Stuart 12\n"
     ]
    }
   ],
   "source": [
    "p1_score = 0\n",
    "p2_score = 0\n",
    "s = 'BANANA'\n",
    "p_substring = []\n",
    "l1=['A','I','O','U','E']\n",
    "for i in range(len(s)):\n",
    "    for j in range(i+1,len(s)+1):\n",
    "        if(s[i:j][0] in l1):\n",
    "            p1_score +=1\n",
    "        else:\n",
    "            p2_score +=1\n",
    "if(p1_score>p2_score):\n",
    "    print(\"Kevin\",p1_score)\n",
    "else:\n",
    "    print(\"Stuart\",p2_score)\n",
    "       "
   ]
  },
  {
   "cell_type": "code",
   "execution_count": 43,
   "metadata": {
    "ExecuteTime": {
     "end_time": "2020-06-16T10:09:12.873656Z",
     "start_time": "2020-06-16T10:09:12.856721Z"
    }
   },
   "outputs": [
    {
     "data": {
      "text/plain": [
       "[]"
      ]
     },
     "execution_count": 43,
     "metadata": {},
     "output_type": "execute_result"
    }
   ],
   "source": [
    "p_substring"
   ]
  },
  {
   "cell_type": "code",
   "execution_count": 9,
   "metadata": {
    "ExecuteTime": {
     "end_time": "2020-06-16T09:49:11.308977Z",
     "start_time": "2020-06-16T09:49:11.293301Z"
    }
   },
   "outputs": [
    {
     "data": {
      "text/plain": [
       "12"
      ]
     },
     "execution_count": 9,
     "metadata": {},
     "output_type": "execute_result"
    }
   ],
   "source": [
    "p2_score"
   ]
  },
  {
   "cell_type": "markdown",
   "metadata": {
    "ExecuteTime": {
     "end_time": "2020-06-16T10:19:39.951062Z",
     "start_time": "2020-06-16T10:19:39.930090Z"
    }
   },
   "source": [
    "<b>#method 2:</b>"
   ]
  },
  {
   "cell_type": "code",
   "execution_count": 58,
   "metadata": {
    "ExecuteTime": {
     "end_time": "2020-06-16T11:27:45.479700Z",
     "start_time": "2020-06-16T11:27:45.468054Z"
    }
   },
   "outputs": [],
   "source": [
    "my_dictv = {}\n",
    "my_dictc = {}\n",
    "l1=['A','I','O','U','E']"
   ]
  },
  {
   "cell_type": "code",
   "execution_count": null,
   "metadata": {},
   "outputs": [],
   "source": []
  },
  {
   "cell_type": "code",
   "execution_count": 59,
   "metadata": {
    "ExecuteTime": {
     "end_time": "2020-06-16T11:27:46.372778Z",
     "start_time": "2020-06-16T11:27:46.350882Z"
    },
    "code_folding": []
   },
   "outputs": [],
   "source": [
    "def Catagory(i):\n",
    "    global my_dictc\n",
    "    global my_dictv\n",
    "    global l1\n",
    "    if(i[0] in l1 ):\n",
    "        my_dictc[i]=my_dictc.get(i,0)+1\n",
    "    else:\n",
    "        my_dictv[i]=my_dictv.get(i,0)+1"
   ]
  },
  {
   "cell_type": "code",
   "execution_count": 61,
   "metadata": {
    "ExecuteTime": {
     "end_time": "2020-06-16T11:28:34.060763Z",
     "start_time": "2020-06-16T11:28:34.043565Z"
    }
   },
   "outputs": [],
   "source": [
    "for j in range(len(s)):\n",
    "    for k in range(j+1,len(s)+1):\n",
    "        Catagory(s[j:k])\n",
    "        \n",
    "        \n",
    "    "
   ]
  },
  {
   "cell_type": "code",
   "execution_count": 77,
   "metadata": {
    "ExecuteTime": {
     "end_time": "2020-06-16T11:33:25.953585Z",
     "start_time": "2020-06-16T11:33:25.939659Z"
    }
   },
   "outputs": [
    {
     "data": {
      "text/plain": [
       "[1, 1, 1, 1, 1, 1, 2, 2, 1, 1]"
      ]
     },
     "execution_count": 77,
     "metadata": {},
     "output_type": "execute_result"
    }
   ],
   "source": [
    "p1=list(my_dictv.values())\n",
    "p1"
   ]
  },
  {
   "cell_type": "code",
   "execution_count": null,
   "metadata": {},
   "outputs": [],
   "source": []
  }
 ],
 "metadata": {
  "kernelspec": {
   "display_name": "Python 3",
   "language": "python",
   "name": "python3"
  },
  "language_info": {
   "codemirror_mode": {
    "name": "ipython",
    "version": 3
   },
   "file_extension": ".py",
   "mimetype": "text/x-python",
   "name": "python",
   "nbconvert_exporter": "python",
   "pygments_lexer": "ipython3",
   "version": "3.7.6"
  },
  "toc": {
   "base_numbering": 1,
   "nav_menu": {},
   "number_sections": true,
   "sideBar": true,
   "skip_h1_title": false,
   "title_cell": "Table of Contents",
   "title_sidebar": "Contents",
   "toc_cell": false,
   "toc_position": {},
   "toc_section_display": true,
   "toc_window_display": false
  }
 },
 "nbformat": 4,
 "nbformat_minor": 4
}
