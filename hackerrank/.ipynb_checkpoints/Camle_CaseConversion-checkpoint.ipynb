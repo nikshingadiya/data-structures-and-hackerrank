{
 "cells": [
  {
   "cell_type": "code",
   "execution_count": 27,
   "metadata": {
    "ExecuteTime": {
     "end_time": "2020-06-15T05:42:23.103917Z",
     "start_time": "2020-06-15T05:42:19.848665Z"
    }
   },
   "outputs": [
    {
     "name": "stdout",
     "output_type": "stream",
     "text": [
      "nik  nio\n",
      "['nik', '', 'nio']\n"
     ]
    },
    {
     "data": {
      "text/plain": [
       "'Nik  Nio'"
      ]
     },
     "execution_count": 27,
     "metadata": {},
     "output_type": "execute_result"
    }
   ],
   "source": [
    "n = input()\n",
    "n = n.split(\" \")\n",
    "l1 = []\n",
    "v = ''\n",
    "for i in n:\n",
    "    if(type(i) == str and len(i) != 0):\n",
    "        v = i[0].upper()+i[1:]\n",
    "        l1.append(v)\n",
    "    else:\n",
    "        l1.append(i)\n",
    "\n",
    "n = (\" \".join(l1))\n",
    "n"
   ]
  },
  {
   "cell_type": "code",
   "execution_count": null,
   "metadata": {},
   "outputs": [],
   "source": []
  }
 ],
 "metadata": {
  "kernelspec": {
   "display_name": "Python 3",
   "language": "python",
   "name": "python3"
  },
  "language_info": {
   "codemirror_mode": {
    "name": "ipython",
    "version": 3
   },
   "file_extension": ".py",
   "mimetype": "text/x-python",
   "name": "python",
   "nbconvert_exporter": "python",
   "pygments_lexer": "ipython3",
   "version": "3.7.6"
  },
  "toc": {
   "base_numbering": 1,
   "nav_menu": {},
   "number_sections": true,
   "sideBar": true,
   "skip_h1_title": false,
   "title_cell": "Table of Contents",
   "title_sidebar": "Contents",
   "toc_cell": false,
   "toc_position": {},
   "toc_section_display": true,
   "toc_window_display": false
  }
 },
 "nbformat": 4,
 "nbformat_minor": 4
}
