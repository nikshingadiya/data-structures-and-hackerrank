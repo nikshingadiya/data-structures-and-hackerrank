{
 "cells": [
  {
   "cell_type": "code",
   "execution_count": 3,
   "metadata": {
    "ExecuteTime": {
     "end_time": "2020-06-05T04:12:00.928909Z",
     "start_time": "2020-06-05T04:12:00.915971Z"
    }
   },
   "outputs": [],
   "source": []
  },
  {
   "cell_type": "code",
   "execution_count": 1,
   "metadata": {
    "ExecuteTime": {
     "end_time": "2020-06-05T04:11:44.709867Z",
     "start_time": "2020-06-05T04:11:44.695957Z"
    }
   },
   "outputs": [],
   "source": [
    "\n",
    "    "
   ]
  },
  {
   "cell_type": "code",
   "execution_count": null,
   "metadata": {},
   "outputs": [],
   "source": []
  },
  {
   "cell_type": "code",
   "execution_count": 4,
   "metadata": {
    "ExecuteTime": {
     "end_time": "2020-06-05T04:12:03.610721Z",
     "start_time": "2020-06-05T04:12:03.596132Z"
    }
   },
   "outputs": [
    {
     "name": "stdout",
     "output_type": "stream",
     "text": [
      "[]\n"
     ]
    }
   ],
   "source": []
  },
  {
   "cell_type": "code",
   "execution_count": 13,
   "metadata": {
    "ExecuteTime": {
     "end_time": "2020-06-05T04:39:56.888608Z",
     "start_time": "2020-06-05T04:39:32.183682Z"
    }
   },
   "outputs": [
    {
     "name": "stdout",
     "output_type": "stream",
     "text": [
      "2\n",
      "insert 1 7\n",
      "print\n",
      "[7]\n"
     ]
    }
   ],
   "source": [
    "N = int(input())\n",
    "l1=[]\n",
    "for i in range(N):\n",
    "        cmd = input().split()\n",
    "        x=cmd[0]\n",
    "        if(x=='insert'):\n",
    "            l1.insert(int(cmd[1]),int(cmd[2]))\n",
    "        elif(x=='print'):\n",
    "            print(l1)\n",
    "        elif(x=='remove'):\n",
    "            l1.remove(int(cmd[1]))\n",
    "        elif(x=='append'):\n",
    "            l1.append(int(cmd[1]))\n",
    "        elif(x=='sort'):\n",
    "            l1.sort()\n",
    "        elif(x=='pop'):\n",
    "            l1.pop()\n",
    "        elif(x=='reverse'):\n",
    "            l1=l1[::-1]\n",
    "            "
   ]
  },
  {
   "cell_type": "code",
   "execution_count": 9,
   "metadata": {
    "ExecuteTime": {
     "end_time": "2020-06-05T04:18:58.615140Z",
     "start_time": "2020-06-05T04:18:53.613916Z"
    }
   },
   "outputs": [
    {
     "name": "stdout",
     "output_type": "stream",
     "text": [
      "nik 2 3\n"
     ]
    }
   ],
   "source": [
    "v=input().split()"
   ]
  },
  {
   "cell_type": "code",
   "execution_count": 10,
   "metadata": {
    "ExecuteTime": {
     "end_time": "2020-06-05T04:19:01.672502Z",
     "start_time": "2020-06-05T04:19:01.663775Z"
    }
   },
   "outputs": [
    {
     "data": {
      "text/plain": [
       "['nik', '2', '3']"
      ]
     },
     "execution_count": 10,
     "metadata": {},
     "output_type": "execute_result"
    }
   ],
   "source": [
    "v"
   ]
  },
  {
   "cell_type": "code",
   "execution_count": 8,
   "metadata": {
    "ExecuteTime": {
     "end_time": "2020-06-05T04:18:07.525689Z",
     "start_time": "2020-06-05T04:18:07.514086Z"
    }
   },
   "outputs": [
    {
     "data": {
      "text/plain": [
       "str"
      ]
     },
     "execution_count": 8,
     "metadata": {},
     "output_type": "execute_result"
    }
   ],
   "source": [
    "type(v)"
   ]
  },
  {
   "cell_type": "code",
   "execution_count": 15,
   "metadata": {
    "ExecuteTime": {
     "end_time": "2020-06-05T04:50:38.325613Z",
     "start_time": "2020-06-05T04:50:38.316842Z"
    }
   },
   "outputs": [
    {
     "data": {
      "text/plain": [
       "3713081631934410656"
      ]
     },
     "execution_count": 15,
     "metadata": {},
     "output_type": "execute_result"
    }
   ],
   "source": [
    "hash((1,2))"
   ]
  },
  {
   "cell_type": "code",
   "execution_count": null,
   "metadata": {},
   "outputs": [],
   "source": []
  }
 ],
 "metadata": {
  "kernelspec": {
   "display_name": "Python 3",
   "language": "python",
   "name": "python3"
  },
  "language_info": {
   "codemirror_mode": {
    "name": "ipython",
    "version": 3
   },
   "file_extension": ".py",
   "mimetype": "text/x-python",
   "name": "python",
   "nbconvert_exporter": "python",
   "pygments_lexer": "ipython3",
   "version": "3.7.6"
  },
  "toc": {
   "base_numbering": 1,
   "nav_menu": {},
   "number_sections": true,
   "sideBar": true,
   "skip_h1_title": false,
   "title_cell": "Table of Contents",
   "title_sidebar": "Contents",
   "toc_cell": false,
   "toc_position": {},
   "toc_section_display": true,
   "toc_window_display": false
  }
 },
 "nbformat": 4,
 "nbformat_minor": 4
}
